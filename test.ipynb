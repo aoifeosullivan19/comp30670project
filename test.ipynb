{
 "cells": [
  {
   "cell_type": "code",
   "execution_count": 1,
   "metadata": {},
   "outputs": [
    {
     "data": {
      "text/plain": [
       "'<!DOCTYPE html>\\n<html>\\n    <head>\\n        <title>A simple example page</title>\\n    </head>\\n    <body>\\n        <p>Here is some simple content for this page.</p>\\n    </body>\\n</html>'"
      ]
     },
     "execution_count": 1,
     "metadata": {},
     "output_type": "execute_result"
    }
   ],
   "source": [
    "import requests\n",
    "page=requests.get(\"http://dataquestio.github.io/web-scraping-pages/simple.html\")\n",
    "page.text"
   ]
  },
  {
   "cell_type": "code",
   "execution_count": 3,
   "metadata": {},
   "outputs": [
    {
     "ename": "SyntaxError",
     "evalue": "invalid syntax (<ipython-input-3-e2e546772397>, line 1)",
     "output_type": "error",
     "traceback": [
      "\u001b[0;36m  File \u001b[0;32m\"<ipython-input-3-e2e546772397>\"\u001b[0;36m, line \u001b[0;32m1\u001b[0m\n\u001b[0;31m    GET https://api.jcdecaux.com/vls/v1/contracts HTTP/1.1&apiKey={7ad82bb68a98a4a16979023ed867b6501b108e6e}\u001b[0m\n\u001b[0m            ^\u001b[0m\n\u001b[0;31mSyntaxError\u001b[0m\u001b[0;31m:\u001b[0m invalid syntax\n"
     ]
    }
   ],
   "source": [
    "GET https://api.jcdecaux.com/vls/v1/contracts HTTP/1.1&apiKey={7ad82bb68a98a4a16979023ed867b6501b108e6e}"
   ]
  },
  {
   "cell_type": "code",
   "execution_count": 32,
   "metadata": {
    "collapsed": true
   },
   "outputs": [],
   "source": [
    "import json\n",
    "import requests"
   ]
  },
  {
   "cell_type": "code",
   "execution_count": 33,
   "metadata": {
    "collapsed": true
   },
   "outputs": [],
   "source": [
    "api_token = 'your_api_token'\n",
    "api_url_base = 'https://api.digitalocean.com/v2/'"
   ]
  },
  {
   "cell_type": "code",
   "execution_count": 34,
   "metadata": {
    "collapsed": true
   },
   "outputs": [],
   "source": [
    "headers = {'Content-Type': 'application/json',\n",
    "           'Authorization': 'Bearer {0}'.format(api_token)}"
   ]
  },
  {
   "cell_type": "code",
   "execution_count": 35,
   "metadata": {
    "collapsed": true
   },
   "outputs": [],
   "source": [
    "def get_account_info():\n",
    "\n",
    "    api_url = '{0}account'.format(api_url_base)\n",
    "\n",
    "    response = requests.get(api_url, headers=headers)\n",
    "\n",
    "    if response.status_code == 200:\n",
    "        return json.loads(response.content.decode('utf-8'))\n",
    "    else:\n",
    "        return response.status_code"
   ]
  },
  {
   "cell_type": "code",
   "execution_count": 36,
   "metadata": {},
   "outputs": [
    {
     "name": "stdout",
     "output_type": "stream",
     "text": [
      "Here's your info: \n"
     ]
    },
    {
     "ename": "TypeError",
     "evalue": "'int' object is not subscriptable",
     "output_type": "error",
     "traceback": [
      "\u001b[0;31m---------------------------------------------------------------------------\u001b[0m",
      "\u001b[0;31mTypeError\u001b[0m                                 Traceback (most recent call last)",
      "\u001b[0;32m<ipython-input-36-e4fa5066b5b0>\u001b[0m in \u001b[0;36m<module>\u001b[0;34m()\u001b[0m\n\u001b[1;32m      3\u001b[0m \u001b[0;32mif\u001b[0m \u001b[0maccount_info\u001b[0m \u001b[0;32mis\u001b[0m \u001b[0;32mnot\u001b[0m \u001b[0;32mNone\u001b[0m\u001b[0;34m:\u001b[0m\u001b[0;34m\u001b[0m\u001b[0m\n\u001b[1;32m      4\u001b[0m     \u001b[0mprint\u001b[0m\u001b[0;34m(\u001b[0m\u001b[0;34m\"Here's your info: \"\u001b[0m\u001b[0;34m)\u001b[0m\u001b[0;34m\u001b[0m\u001b[0m\n\u001b[0;32m----> 5\u001b[0;31m     \u001b[0;32mfor\u001b[0m \u001b[0mk\u001b[0m\u001b[0;34m,\u001b[0m \u001b[0mv\u001b[0m \u001b[0;32min\u001b[0m \u001b[0maccount_info\u001b[0m\u001b[0;34m[\u001b[0m\u001b[0;34m'account'\u001b[0m\u001b[0;34m]\u001b[0m\u001b[0;34m.\u001b[0m\u001b[0mitems\u001b[0m\u001b[0;34m(\u001b[0m\u001b[0;34m)\u001b[0m\u001b[0;34m:\u001b[0m\u001b[0;34m\u001b[0m\u001b[0m\n\u001b[0m\u001b[1;32m      6\u001b[0m         \u001b[0mprint\u001b[0m\u001b[0;34m(\u001b[0m\u001b[0;34m'{0}:{1}'\u001b[0m\u001b[0;34m.\u001b[0m\u001b[0mformat\u001b[0m\u001b[0;34m(\u001b[0m\u001b[0mk\u001b[0m\u001b[0;34m,\u001b[0m \u001b[0mv\u001b[0m\u001b[0;34m)\u001b[0m\u001b[0;34m)\u001b[0m\u001b[0;34m\u001b[0m\u001b[0m\n\u001b[1;32m      7\u001b[0m \u001b[0;34m\u001b[0m\u001b[0m\n",
      "\u001b[0;31mTypeError\u001b[0m: 'int' object is not subscriptable"
     ]
    }
   ],
   "source": [
    "account_info = get_account_info()\n",
    "\n",
    "if account_info is not None:\n",
    "    print(\"Here's your info: \")\n",
    "    for k, v in account_info['account'].items():\n",
    "        print('{0}:{1}'.format(k, v))\n",
    "\n",
    "else:\n",
    "    print('[!] Request Failed')"
   ]
  },
  {
   "cell_type": "code",
   "execution_count": null,
   "metadata": {
    "collapsed": true
   },
   "outputs": [],
   "source": []
  },
  {
   "cell_type": "code",
   "execution_count": 37,
   "metadata": {
    "collapsed": true
   },
   "outputs": [],
   "source": [
    "#source - https://www.digitalocean.com/community/tutorials/how-to-use-web-apis-in-python-3"
   ]
  },
  {
   "cell_type": "code",
   "execution_count": 38,
   "metadata": {
    "collapsed": true
   },
   "outputs": [],
   "source": [
    "from urllib.request import urlopen\n",
    "from bs4 import BeautifulSoup\n",
    "import requests\n",
    "import json"
   ]
  },
  {
   "cell_type": "code",
   "execution_count": 39,
   "metadata": {
    "collapsed": true
   },
   "outputs": [],
   "source": [
    "api_token = 'your_api_token'\n",
    "api_url_base = 'https://api.jcdecaux.com/vls/v1/stations HTTP/1.1&apiKey={7ad82bb68a98a4a16979023ed867b6501b108e6e}'\n"
   ]
  },
  {
   "cell_type": "code",
   "execution_count": 40,
   "metadata": {
    "collapsed": true
   },
   "outputs": [],
   "source": [
    "headers = {'Content-Type': 'application/json',\n",
    "           'Authorization': 'Bearer {0}'.format(api_token)}"
   ]
  },
  {
   "cell_type": "code",
   "execution_count": 41,
   "metadata": {
    "collapsed": true
   },
   "outputs": [],
   "source": [
    "def get_contract_info():\n",
    "\n",
    "    api_url = '{0}account'.format(api_url_base)\n",
    "\n",
    "    response = requests.get(api_url, headers=headers)\n",
    "\n",
    "    if response.status_code == 200:\n",
    "        return json.loads(response.content.decode('utf-8'))\n",
    "    else:\n",
    "        return response.status_code"
   ]
  },
  {
   "cell_type": "code",
   "execution_count": 42,
   "metadata": {},
   "outputs": [
    {
     "name": "stdout",
     "output_type": "stream",
     "text": [
      "404\n"
     ]
    }
   ],
   "source": [
    "contract_info = get_contract_info()\n",
    "\n",
    "print (contract_info)"
   ]
  },
  {
   "cell_type": "code",
   "execution_count": null,
   "metadata": {
    "collapsed": true
   },
   "outputs": [],
   "source": []
  },
  {
   "cell_type": "code",
   "execution_count": 3,
   "metadata": {},
   "outputs": [
    {
     "ename": "SyntaxError",
     "evalue": "invalid syntax (<ipython-input-3-120341baf981>, line 1)",
     "output_type": "error",
     "traceback": [
      "\u001b[0;36m  File \u001b[0;32m\"<ipython-input-3-120341baf981>\"\u001b[0;36m, line \u001b[0;32m1\u001b[0m\n\u001b[0;31m    GET https://api.jcdecaux.com/vls/v1/contracts HTTP/1.1\u001b[0m\n\u001b[0m            ^\u001b[0m\n\u001b[0;31mSyntaxError\u001b[0m\u001b[0;31m:\u001b[0m invalid syntax\n"
     ]
    }
   ],
   "source": [
    "GET https://api.jcdecaux.com/vls/v1/contracts HTTP/1.1\n",
    "Accept: application/json"
   ]
  },
  {
   "cell_type": "code",
   "execution_count": 56,
   "metadata": {},
   "outputs": [
    {
     "ename": "IndexError",
     "evalue": "list index out of range",
     "output_type": "error",
     "traceback": [
      "\u001b[0;31m---------------------------------------------------------------------------\u001b[0m",
      "\u001b[0;31mIndexError\u001b[0m                                Traceback (most recent call last)",
      "\u001b[0;32m<ipython-input-56-156e7c5b59d2>\u001b[0m in \u001b[0;36m<module>\u001b[0;34m()\u001b[0m\n\u001b[1;32m     21\u001b[0m \u001b[0;31m# extracting latitude, longitude and formatted address\u001b[0m\u001b[0;34m\u001b[0m\u001b[0;34m\u001b[0m\u001b[0m\n\u001b[1;32m     22\u001b[0m \u001b[0;31m# of the first matching location\u001b[0m\u001b[0;34m\u001b[0m\u001b[0;34m\u001b[0m\u001b[0m\n\u001b[0;32m---> 23\u001b[0;31m \u001b[0mlatitude\u001b[0m \u001b[0;34m=\u001b[0m \u001b[0mdata\u001b[0m\u001b[0;34m[\u001b[0m\u001b[0;34m'results'\u001b[0m\u001b[0;34m]\u001b[0m\u001b[0;34m[\u001b[0m\u001b[0;36m0\u001b[0m\u001b[0;34m]\u001b[0m\u001b[0;34m[\u001b[0m\u001b[0;34m'geometry'\u001b[0m\u001b[0;34m]\u001b[0m\u001b[0;34m[\u001b[0m\u001b[0;34m'location'\u001b[0m\u001b[0;34m]\u001b[0m\u001b[0;34m[\u001b[0m\u001b[0;34m'lat'\u001b[0m\u001b[0;34m]\u001b[0m\u001b[0;34m\u001b[0m\u001b[0m\n\u001b[0m\u001b[1;32m     24\u001b[0m \u001b[0mlongitude\u001b[0m \u001b[0;34m=\u001b[0m \u001b[0mdata\u001b[0m\u001b[0;34m[\u001b[0m\u001b[0;34m'results'\u001b[0m\u001b[0;34m]\u001b[0m\u001b[0;34m[\u001b[0m\u001b[0;36m0\u001b[0m\u001b[0;34m]\u001b[0m\u001b[0;34m[\u001b[0m\u001b[0;34m'geometry'\u001b[0m\u001b[0;34m]\u001b[0m\u001b[0;34m[\u001b[0m\u001b[0;34m'location'\u001b[0m\u001b[0;34m]\u001b[0m\u001b[0;34m[\u001b[0m\u001b[0;34m'lng'\u001b[0m\u001b[0;34m]\u001b[0m\u001b[0;34m\u001b[0m\u001b[0m\n\u001b[1;32m     25\u001b[0m \u001b[0mformatted_address\u001b[0m \u001b[0;34m=\u001b[0m \u001b[0mdata\u001b[0m\u001b[0;34m[\u001b[0m\u001b[0;34m'results'\u001b[0m\u001b[0;34m]\u001b[0m\u001b[0;34m[\u001b[0m\u001b[0;36m0\u001b[0m\u001b[0;34m]\u001b[0m\u001b[0;34m[\u001b[0m\u001b[0;34m'formatted_address'\u001b[0m\u001b[0;34m]\u001b[0m\u001b[0;34m\u001b[0m\u001b[0m\n",
      "\u001b[0;31mIndexError\u001b[0m: list index out of range"
     ]
    }
   ],
   "source": [
    "#source - https://www.geeksforgeeks.org/get-post-requests-using-python/\n",
    "# importing the requests library\n",
    "import requests\n",
    " \n",
    "# api-endpoint\n",
    "URL = \"http://maps.googleapis.com/maps/api/geocode/json\"\n",
    " \n",
    "# location given here\n",
    "location = \"delhi technological university\"\n",
    " \n",
    "# defining a params dict for the parameters to be sent to the API\n",
    "PARAMS = {'address':location}\n",
    " \n",
    "# sending get request and saving the response as response object\n",
    "r = requests.get(url = URL, params = PARAMS)\n",
    " \n",
    "# extracting data in json format\n",
    "data = r.json()\n",
    " \n",
    " \n",
    "# extracting latitude, longitude and formatted address \n",
    "# of the first matching location\n",
    "latitude = data['results'][0]['geometry']['location']['lat']\n",
    "longitude = data['results'][0]['geometry']['location']['lng']\n",
    "formatted_address = data['results'][0]['formatted_address']\n",
    " \n",
    "# printing the output\n",
    "print(\"Latitude:%s\\nLongitude:%s\\nFormatted Address:%s\"\n",
    "      %(latitude, longitude,formatted_address))"
   ]
  },
  {
   "cell_type": "code",
   "execution_count": 59,
   "metadata": {},
   "outputs": [
    {
     "name": "stdout",
     "output_type": "stream",
     "text": [
      "<class 'dict'>\n",
      "{'number': 13, 'name': 'FITZWILLIAM SQUARE WEST', 'address': 'Fitzwilliam Square West', 'position': {'lat': 53.336074, 'lng': -6.252825}, 'banking': False, 'bonus': False, 'status': 'OPEN', 'contract_name': 'Dublin', 'bike_stands': 30, 'available_bike_stands': 19, 'available_bikes': 11, 'last_update': 1520776498000}\n"
     ]
    }
   ],
   "source": [
    "#source - https://www.geeksforgeeks.org/get-post-requests-using-python/\n",
    "# importing the requests library\n",
    "import requests\n",
    " \n",
    "# api-endpoint\n",
    "URL = \"https://api.jcdecaux.com/vls/v1/stations?contract=Dublin&apiKey=7ad82bb68a98a4a16979023ed867b6501b108e6e\"\n",
    " \n",
    "# location given here\n",
    "location = \"unknown\"\n",
    " \n",
    "# defining a params dict for the parameters to be sent to the API\n",
    "PARAMS = {'number':location}\n",
    " \n",
    "# sending get request and saving the response as response object\n",
    "r = requests.get(url = URL, params = PARAMS)\n",
    " \n",
    "# extracting data in json format\n",
    "data = r.json()\n",
    " \n",
    " \n",
    "# extracting latitude, longitude and formatted address \n",
    "# of the first matching location\n",
    "latitude = data[len(\"number=42\")]\n",
    "print (type(latitude))\n",
    " \n",
    "# printing the output\n",
    "print(latitude)"
   ]
  },
  {
   "cell_type": "code",
   "execution_count": null,
   "metadata": {
    "collapsed": true
   },
   "outputs": [],
   "source": [
    "#source http://blog.serenytics.com/2015/11/13/create-your-app-to-track-your-velib-station-availability-and-history/"
   ]
  },
  {
   "cell_type": "code",
   "execution_count": null,
   "metadata": {
    "collapsed": true
   },
   "outputs": [],
   "source": [
    "https://api.jcdecaux.com/vls/v1/stations?contract=Dublin&apiKey=7ad82bb68a98a4a16979023ed867b6501b108e6e"
   ]
  },
  {
   "cell_type": "code",
   "execution_count": null,
   "metadata": {
    "collapsed": true
   },
   "outputs": [],
   "source": [
    "https://api.jcdecaux.com/vls/v1/contracts HTTP/1.1&apiKey=7ad82bb68a98a4a16979023ed867b6501b108e6e"
   ]
  },
  {
   "cell_type": "code",
   "execution_count": 1,
   "metadata": {
    "collapsed": true
   },
   "outputs": [],
   "source": [
    "# https://elitedatascience.com/python-web-scraping-libraries\n",
    "import requests\n",
    "page = requests.get('https://api.jcdecaux.com/vls/v1/stations?contract=Dublin&apiKey=7ad82bb68a98a4a16979023ed867b6501b108e6e')\n",
    "contents = page.content"
   ]
  },
  {
   "cell_type": "code",
   "execution_count": 2,
   "metadata": {},
   "outputs": [
    {
     "name": "stdout",
     "output_type": "stream",
     "text": [
      "b'[{\"number\":42,\"name\":\"SMITHFIELD NORTH\",\"address\":\"Smithfield North\",\"position\":{\"lat\":53.349562,\"lng\":-6.278198},\"banking\":true,\"bonus\":false,\"status\":\"OPEN\",\"contract_name\":\"Dublin\",\"bike_stands\":30,\"available_bike_stands\":28,\"available_bikes\":2,\"last_update\":1520855216000},{\"number\":30,\"name\":\"PARNELL SQUARE NORTH\",\"address\":\"Parnell Square North\",\"position\":{\"lat\":53.353462,\"lng\":-6.265305},\"banking\":true,\"bonus\":false,\"status\":\"OPEN\",\"contract_name\":\"Dublin\",\"bike_stands\":20,\"available_bike_stands\":20,\"available_bikes\":0,\"last_update\":1520855253000},{\"number\":54,\"name\":\"CLONMEL STREET\",\"address\":\"Clonmel Street\",\"position\":{\"lat\":53.336021,\"lng\":-6.26298},\"banking\":false,\"bonus\":false,\"status\":\"OPEN\",\"contract_name\":\"Dublin\",\"bike_stands\":33,\"available_bike_stands\":13,\"available_bikes\":20,\"last_update\":1520855413000},{\"number\":56,\"name\":\"MOUNT STREET LOWER\",\"address\":\"Mount Street Lower\",\"position\":{\"lat\":53.33796,\"lng\":-6.24153},\"banking\":false,\"bonus\":false,\"status\":\"OPEN\",\"contract_name\":\"Dublin\",\"bike_stands\":40,\"available_bike_stands\":6,\"available_bikes\":33,\"last_update\":1520855434000},{\"number\":6,\"name\":\"CHRISTCHURCH PLACE\",\"address\":\"Christchurch Place\",\"position\":{\"lat\":53.343368,\"lng\":-6.27012},\"banking\":false,\"bonus\":false,\"status\":\"OPEN\",\"contract_name\":\"Dublin\",\"bike_stands\":20,\"available_bike_stands\":19,\"available_bikes\":1,\"last_update\":1520855434000},{\"number\":18,\"name\":\"GRANTHAM STREET\",\"address\":\"Grantham Street\",\"position\":{\"lat\":53.334123,\"lng\":-6.265436},\"banking\":true,\"bonus\":false,\"status\":\"OPEN\",\"contract_name\":\"Dublin\",\"bike_stands\":30,\"available_bike_stands\":30,\"available_bikes\":0,\"last_update\":1520854905000},{\"number\":32,\"name\":\"PEARSE STREET\",\"address\":\"Pearse Street\",\"position\":{\"lat\":53.344304,\"lng\":-6.250427},\"banking\":true,\"bonus\":false,\"status\":\"OPEN\",\"contract_name\":\"Dublin\",\"bike_stands\":30,\"available_bike_stands\":0,\"available_bikes\":30,\"last_update\":1520855193000},{\"number\":52,\"name\":\"YORK STREET EAST\",\"address\":\"York Street East\",\"position\":{\"lat\":53.338755,\"lng\":-6.262003},\"banking\":false,\"bonus\":false,\"status\":\"OPEN\",\"contract_name\":\"Dublin\",\"bike_stands\":32,\"available_bike_stands\":13,\"available_bikes\":19,\"last_update\":1520855294000},{\"number\":48,\"name\":\"EXCISE WALK\",\"address\":\"Excise Walk\",\"position\":{\"lat\":53.347777,\"lng\":-6.244239},\"banking\":false,\"bonus\":false,\"status\":\"OPEN\",\"contract_name\":\"Dublin\",\"bike_stands\":40,\"available_bike_stands\":0,\"available_bikes\":40,\"last_update\":1520855216000},{\"number\":13,\"name\":\"FITZWILLIAM SQUARE WEST\",\"address\":\"Fitzwilliam Square West\",\"position\":{\"lat\":53.336074,\"lng\":-6.252825},\"banking\":false,\"bonus\":false,\"status\":\"OPEN\",\"contract_name\":\"Dublin\",\"bike_stands\":30,\"available_bike_stands\":11,\"available_bikes\":19,\"last_update\":1520854954000},{\"number\":43,\"name\":\"PORTOBELLO ROAD\",\"address\":\"Portobello Road\",\"position\":{\"lat\":53.330091,\"lng\":-6.268044},\"banking\":true,\"bonus\":false,\"status\":\"OPEN\",\"contract_name\":\"Dublin\",\"bike_stands\":30,\"available_bike_stands\":29,\"available_bikes\":1,\"last_update\":1520855210000},{\"number\":81,\"name\":\"ST. JAMES HOSPITAL (CENTRAL)\",\"address\":\"St. James Hospital (Central)\",\"position\":{\"lat\":53.339983,\"lng\":-6.295594},\"banking\":false,\"bonus\":false,\"status\":\"OPEN\",\"contract_name\":\"Dublin\",\"bike_stands\":40,\"available_bike_stands\":40,\"available_bikes\":0,\"last_update\":1520855374000},{\"number\":31,\"name\":\"PARNELL STREET\",\"address\":\"Parnell Street\",\"position\":{\"lat\":53.350929,\"lng\":-6.265125},\"banking\":false,\"bonus\":false,\"status\":\"OPEN\",\"contract_name\":\"Dublin\",\"bike_stands\":20,\"available_bike_stands\":15,\"available_bikes\":5,\"last_update\":1520855261000},{\"number\":98,\"name\":\"FREDERICK STREET SOUTH\",\"address\":\"Frederick Street South\",\"position\":{\"lat\":53.341515,\"lng\":-6.256853},\"banking\":true,\"bonus\":false,\"status\":\"OPEN\",\"contract_name\":\"Dublin\",\"bike_stands\":30,\"available_bike_stands\":0,\"available_bikes\":20,\"last_update\":1520855070000},{\"number\":14,\"name\":\"FOWNES STREET UPPER\",\"address\":\"Fownes Street Upper\",\"position\":{\"lat\":53.344603,\"lng\":-6.263371},\"banking\":false,\"bonus\":false,\"status\":\"OPEN\",\"contract_name\":\"Dublin\",\"bike_stands\":30,\"available_bike_stands\":15,\"available_bikes\":15,\"last_update\":1520855353000},{\"number\":1,\"name\":\"CLARENDON ROW\",\"address\":\"Clarendon Row\",\"position\":{\"lat\":53.340927,\"lng\":-6.262501},\"banking\":false,\"bonus\":false,\"status\":\"OPEN\",\"contract_name\":\"Dublin\",\"bike_stands\":31,\"available_bike_stands\":1,\"available_bikes\":30,\"last_update\":1520855257000},{\"number\":23,\"name\":\"CUSTOM HOUSE\",\"address\":\"Custom House\",\"position\":{\"lat\":53.348279,\"lng\":-6.254662},\"banking\":true,\"bonus\":false,\"status\":\"OPEN\",\"contract_name\":\"Dublin\",\"bike_stands\":30,\"available_bike_stands\":27,\"available_bikes\":3,\"last_update\":1520855256000},{\"number\":68,\"name\":\"HANOVER QUAY\",\"address\":\"Hanover Quay\",\"position\":{\"lat\":53.344115,\"lng\":-6.237153},\"banking\":true,\"bonus\":false,\"status\":\"OPEN\",\"contract_name\":\"Dublin\",\"bike_stands\":40,\"available_bike_stands\":0,\"available_bikes\":39,\"last_update\":1520855299000},{\"number\":74,\"name\":\"OLIVER BOND STREET\",\"address\":\"Oliver Bond Street\",\"position\":{\"lat\":53.343893,\"lng\":-6.280531},\"banking\":false,\"bonus\":false,\"status\":\"OPEN\",\"contract_name\":\"Dublin\",\"bike_stands\":30,\"available_bike_stands\":29,\"available_bikes\":1,\"last_update\":1520854849000},{\"number\":87,\"name\":\"COLLINS BARRACKS MUSEUM\",\"address\":\"Collins Barracks Museum\",\"position\":{\"lat\":53.347477,\"lng\":-6.28525},\"banking\":true,\"bonus\":false,\"status\":\"OPEN\",\"contract_name\":\"Dublin\",\"bike_stands\":38,\"available_bike_stands\":37,\"available_bikes\":1,\"last_update\":1520855227000},{\"number\":84,\"name\":\"BROOKFIELD ROAD\",\"address\":\"Brookfield Road\",\"position\":{\"lat\":53.339005,\"lng\":-6.300217},\"banking\":false,\"bonus\":false,\"status\":\"OPEN\",\"contract_name\":\"Dublin\",\"bike_stands\":30,\"available_bike_stands\":30,\"available_bikes\":0,\"last_update\":1520855004000},{\"number\":90,\"name\":\"BENSON STREET\",\"address\":\"Benson Street\",\"position\":{\"lat\":53.344153,\"lng\":-6.233451},\"banking\":false,\"bonus\":false,\"status\":\"CLOSED\",\"contract_name\":\"Dublin\",\"bike_stands\":40,\"available_bike_stands\":0,\"available_bikes\":0,\"last_update\":1520855419000},{\"number\":11,\"name\":\"EARLSFORT TERRACE\",\"address\":\"Earlsfort Terrace\",\"position\":{\"lat\":53.334019,\"lng\":-6.258371},\"banking\":false,\"bonus\":false,\"status\":\"OPEN\",\"contract_name\":\"Dublin\",\"bike_stands\":30,\"available_bike_stands\":9,\"available_bikes\":21,\"last_update\":1520855018000},{\"number\":17,\"name\":\"GOLDEN LANE\",\"address\":\"Golden Lane\",\"position\":{\"lat\":53.340803,\"lng\":-6.267732},\"banking\":false,\"bonus\":false,\"status\":\"OPEN\",\"contract_name\":\"Dublin\",\"bike_stands\":20,\"available_bike_stands\":19,\"available_bikes\":1,\"last_update\":1520855127000},{\"number\":45,\"name\":\"DEVERELL PLACE\",\"address\":\"Deverell Place\",\"position\":{\"lat\":53.351464,\"lng\":-6.255265},\"banking\":false,\"bonus\":false,\"status\":\"OPEN\",\"contract_name\":\"Dublin\",\"bike_stands\":30,\"available_bike_stands\":17,\"available_bikes\":13,\"last_update\":1520855410000},{\"number\":72,\"name\":\"JOHN STREET WEST\",\"address\":\"John Street West\",\"position\":{\"lat\":53.343105,\"lng\":-6.277167},\"banking\":false,\"bonus\":false,\"status\":\"OPEN\",\"contract_name\":\"Dublin\",\"bike_stands\":31,\"available_bike_stands\":30,\"available_bikes\":1,\"last_update\":1520855370000},{\"number\":63,\"name\":\"FENIAN STREET\",\"address\":\"Fenian Street\",\"position\":{\"lat\":53.341428,\"lng\":-6.24672},\"banking\":false,\"bonus\":false,\"status\":\"OPEN\",\"contract_name\":\"Dublin\",\"bike_stands\":35,\"available_bike_stands\":0,\"available_bikes\":35,\"last_update\":1520854938000},{\"number\":91,\"name\":\"SOUTH DOCK ROAD\",\"address\":\"South Dock Road\",\"position\":{\"lat\":53.341833,\"lng\":-6.231291},\"banking\":false,\"bonus\":false,\"status\":\"OPEN\",\"contract_name\":\"Dublin\",\"bike_stands\":30,\"available_bike_stands\":15,\"available_bikes\":15,\"last_update\":1520855153000},{\"number\":99,\"name\":\"CITY QUAY\",\"address\":\"City Quay\",\"position\":{\"lat\":53.346637,\"lng\":-6.246154},\"banking\":false,\"bonus\":false,\"status\":\"OPEN\",\"contract_name\":\"Dublin\",\"bike_stands\":30,\"available_bike_stands\":0,\"available_bikes\":30,\"last_update\":1520855049000},{\"number\":9,\"name\":\"EXCHEQUER STREET\",\"address\":\"Exchequer Street\",\"position\":{\"lat\":53.343034,\"lng\":-6.263578},\"banking\":false,\"bonus\":false,\"status\":\"OPEN\",\"contract_name\":\"Dublin\",\"bike_stands\":24,\"available_bike_stands\":9,\"available_bikes\":14,\"last_update\":1520855297000},{\"number\":67,\"name\":\"THE POINT\",\"address\":\"The Point\",\"position\":{\"lat\":53.346867,\"lng\":-6.230852},\"banking\":false,\"bonus\":false,\"status\":\"OPEN\",\"contract_name\":\"Dublin\",\"bike_stands\":40,\"available_bike_stands\":10,\"available_bikes\":29,\"last_update\":1520855122000},{\"number\":55,\"name\":\"HATCH STREET\",\"address\":\"Hatch Street\",\"position\":{\"lat\":53.33403,\"lng\":-6.260714},\"banking\":false,\"bonus\":false,\"status\":\"OPEN\",\"contract_name\":\"Dublin\",\"bike_stands\":36,\"available_bike_stands\":5,\"available_bikes\":31,\"last_update\":1520855218000},{\"number\":62,\"name\":\"LIME STREET\",\"address\":\"Lime Street\",\"position\":{\"lat\":53.346026,\"lng\":-6.243576},\"banking\":false,\"bonus\":false,\"status\":\"OPEN\",\"contract_name\":\"Dublin\",\"bike_stands\":40,\"available_bike_stands\":0,\"available_bikes\":37,\"last_update\":1520855306000},{\"number\":5,\"name\":\"CHARLEMONT PLACE\",\"address\":\"Charlemont Street\",\"position\":{\"lat\":53.330662,\"lng\":-6.260177},\"banking\":false,\"bonus\":false,\"status\":\"OPEN\",\"contract_name\":\"Dublin\",\"bike_stands\":40,\"available_bike_stands\":22,\"available_bikes\":18,\"last_update\":1520855380000},{\"number\":97,\"name\":\"KILMAINHAM GAOL\",\"address\":\"Kilmainham Gaol\",\"position\":{\"lat\":53.342113,\"lng\":-6.310015},\"banking\":true,\"bonus\":false,\"status\":\"OPEN\",\"contract_name\":\"Dublin\",\"bike_stands\":40,\"available_bike_stands\":40,\"available_bikes\":0,\"last_update\":1520855154000},{\"number\":61,\"name\":\"HARDWICKE PLACE\",\"address\":\"Hardwicke Place\",\"position\":{\"lat\":53.357043,\"lng\":-6.263232},\"banking\":true,\"bonus\":false,\"status\":\"OPEN\",\"contract_name\":\"Dublin\",\"bike_stands\":25,\"available_bike_stands\":25,\"available_bikes\":0,\"last_update\":1520855076000},{\"number\":77,\"name\":\"WOLFE TONE STREET\",\"address\":\"Wolfe Tone Street\",\"position\":{\"lat\":53.348875,\"lng\":-6.267459},\"banking\":false,\"bonus\":false,\"status\":\"OPEN\",\"contract_name\":\"Dublin\",\"bike_stands\":29,\"available_bike_stands\":29,\"available_bikes\":0,\"last_update\":1520855409000},{\"number\":73,\"name\":\"FRANCIS STREET\",\"address\":\"Francis Street\",\"position\":{\"lat\":53.342081,\"lng\":-6.275233},\"banking\":true,\"bonus\":false,\"status\":\"OPEN\",\"contract_name\":\"Dublin\",\"bike_stands\":30,\"available_bike_stands\":30,\"available_bikes\":0,\"last_update\":1520855172000},{\"number\":4,\"name\":\"GREEK STREET\",\"address\":\"Greek Street\",\"position\":{\"lat\":53.346874,\"lng\":-6.272976},\"banking\":false,\"bonus\":false,\"status\":\"OPEN\",\"contract_name\":\"Dublin\",\"bike_stands\":20,\"available_bike_stands\":20,\"available_bikes\":0,\"last_update\":1520855305000},{\"number\":49,\"name\":\"GUILD STREET\",\"address\":\"Guild Street\",\"position\":{\"lat\":53.347932,\"lng\":-6.240928},\"banking\":false,\"bonus\":false,\"status\":\"OPEN\",\"contract_name\":\"Dublin\",\"bike_stands\":40,\"available_bike_stands\":3,\"available_bikes\":35,\"last_update\":1520855366000},{\"number\":19,\"name\":\"HERBERT PLACE\",\"address\":\"Herbert Place\",\"position\":{\"lat\":53.334432,\"lng\":-6.245575},\"banking\":false,\"bonus\":false,\"status\":\"OPEN\",\"contract_name\":\"Dublin\",\"bike_stands\":30,\"available_bike_stands\":7,\"available_bikes\":23,\"last_update\":1520855097000},{\"number\":7,\"name\":\"HIGH STREET\",\"address\":\"High Street\",\"position\":{\"lat\":53.343565,\"lng\":-6.275071},\"banking\":true,\"bonus\":false,\"status\":\"OPEN\",\"contract_name\":\"Dublin\",\"bike_stands\":29,\"available_bike_stands\":29,\"available_bikes\":0,\"last_update\":1520855211000},{\"number\":60,\"name\":\"NORTH CIRCULAR ROAD\",\"address\":\"North Circular Road\",\"position\":{\"lat\":53.359624,\"lng\":-6.260348},\"banking\":true,\"bonus\":false,\"status\":\"OPEN\",\"contract_name\":\"Dublin\",\"bike_stands\":30,\"available_bike_stands\":30,\"available_bikes\":0,\"last_update\":1520855080000},{\"number\":102,\"name\":\"WESTERN WAY\",\"address\":\"Western Way\",\"position\":{\"lat\":53.354929,\"lng\":-6.269425},\"banking\":false,\"bonus\":false,\"status\":\"OPEN\",\"contract_name\":\"Dublin\",\"bike_stands\":40,\"available_bike_stands\":40,\"available_bikes\":0,\"last_update\":1520855425000},{\"number\":38,\"name\":\"TALBOT STREET\",\"address\":\"Talbot Street\",\"position\":{\"lat\":53.350974,\"lng\":-6.25294},\"banking\":false,\"bonus\":false,\"status\":\"OPEN\",\"contract_name\":\"Dublin\",\"bike_stands\":40,\"available_bike_stands\":37,\"available_bikes\":3,\"last_update\":1520855307000},{\"number\":53,\"name\":\"NEWMAN HOUSE\",\"address\":\"Newman House\",\"position\":{\"lat\":53.337132,\"lng\":-6.26059},\"banking\":false,\"bonus\":false,\"status\":\"OPEN\",\"contract_name\":\"Dublin\",\"bike_stands\":40,\"available_bike_stands\":13,\"available_bikes\":27,\"last_update\":1520854862000},{\"number\":58,\"name\":\"SIR PATRICK DUN\\'S\",\"address\":\"Sir Patrick\\'s Dun\",\"position\":{\"lat\":53.339218,\"lng\":-6.240642},\"banking\":true,\"bonus\":false,\"status\":\"OPEN\",\"contract_name\":\"Dublin\",\"bike_stands\":40,\"available_bike_stands\":1,\"available_bikes\":39,\"last_update\":1520855408000},{\"number\":66,\"name\":\"NEW CENTRAL BANK\",\"address\":\"New Central Bank\",\"position\":{\"lat\":53.347122,\"lng\":-6.234749},\"banking\":false,\"bonus\":false,\"status\":\"OPEN\",\"contract_name\":\"Dublin\",\"bike_stands\":40,\"available_bike_stands\":15,\"available_bikes\":25,\"last_update\":1520854846000},{\"number\":101,\"name\":\"KING STREET NORTH\",\"address\":\"King Street North\",\"position\":{\"lat\":53.350291,\"lng\":-6.273507},\"banking\":false,\"bonus\":false,\"status\":\"OPEN\",\"contract_name\":\"Dublin\",\"bike_stands\":30,\"available_bike_stands\":29,\"available_bikes\":1,\"last_update\":1520855439000},{\"number\":47,\"name\":\"HERBERT STREET\",\"address\":\"Herbert Street\",\"position\":{\"lat\":53.335742,\"lng\":-6.24551},\"banking\":false,\"bonus\":false,\"status\":\"OPEN\",\"contract_name\":\"Dublin\",\"bike_stands\":40,\"available_bike_stands\":0,\"available_bikes\":40,\"last_update\":1520854966000},{\"number\":8,\"name\":\"CUSTOM HOUSE QUAY\",\"address\":\"Custom House Quay\",\"position\":{\"lat\":53.347884,\"lng\":-6.248048},\"banking\":false,\"bonus\":false,\"status\":\"OPEN\",\"contract_name\":\"Dublin\",\"bike_stands\":30,\"available_bike_stands\":3,\"available_bikes\":24,\"last_update\":1520855413000},{\"number\":27,\"name\":\"MOLESWORTH STREET\",\"address\":\"Molesworth Street\",\"position\":{\"lat\":53.341288,\"lng\":-6.258117},\"banking\":false,\"bonus\":false,\"status\":\"OPEN\",\"contract_name\":\"Dublin\",\"bike_stands\":20,\"available_bike_stands\":0,\"available_bikes\":20,\"last_update\":1520854992000},{\"number\":16,\"name\":\"GEORGES QUAY\",\"address\":\"Georges Quay\",\"position\":{\"lat\":53.347508,\"lng\":-6.252192},\"banking\":false,\"bonus\":false,\"status\":\"OPEN\",\"contract_name\":\"Dublin\",\"bike_stands\":20,\"available_bike_stands\":4,\"available_bikes\":16,\"last_update\":1520855247000},{\"number\":96,\"name\":\"KILMAINHAM LANE\",\"address\":\"Kilmainham Lane\",\"position\":{\"lat\":53.341805,\"lng\":-6.305085},\"banking\":false,\"bonus\":false,\"status\":\"OPEN\",\"contract_name\":\"Dublin\",\"bike_stands\":30,\"available_bike_stands\":29,\"available_bikes\":1,\"last_update\":1520855407000},{\"number\":82,\"name\":\"MOUNT BROWN\",\"address\":\"Mount Brown\",\"position\":{\"lat\":53.341645,\"lng\":-6.29719},\"banking\":false,\"bonus\":false,\"status\":\"OPEN\",\"contract_name\":\"Dublin\",\"bike_stands\":22,\"available_bike_stands\":22,\"available_bikes\":0,\"last_update\":1520854894000},{\"number\":76,\"name\":\"MARKET STREET SOUTH\",\"address\":\"Market Street South\",\"position\":{\"lat\":53.342296,\"lng\":-6.287661},\"banking\":false,\"bonus\":false,\"status\":\"OPEN\",\"contract_name\":\"Dublin\",\"bike_stands\":38,\"available_bike_stands\":38,\"available_bikes\":0,\"last_update\":1520855334000},{\"number\":71,\"name\":\"KEVIN STREET\",\"address\":\"Kevin Street\",\"position\":{\"lat\":53.337757,\"lng\":-6.267699},\"banking\":true,\"bonus\":false,\"status\":\"OPEN\",\"contract_name\":\"Dublin\",\"bike_stands\":40,\"available_bike_stands\":8,\"available_bikes\":32,\"last_update\":1520855431000},{\"number\":79,\"name\":\"ECCLES STREET EAST\",\"address\":\"Eccles Street East\",\"position\":{\"lat\":53.358115,\"lng\":-6.265601},\"banking\":false,\"bonus\":false,\"status\":\"OPEN\",\"contract_name\":\"Dublin\",\"bike_stands\":27,\"available_bike_stands\":27,\"available_bikes\":0,\"last_update\":1520855147000},{\"number\":69,\"name\":\"GRAND CANAL DOCK\",\"address\":\"Grand Canal Dock\",\"position\":{\"lat\":53.342638,\"lng\":-6.238695},\"banking\":false,\"bonus\":false,\"status\":\"OPEN\",\"contract_name\":\"Dublin\",\"bike_stands\":40,\"available_bike_stands\":12,\"available_bikes\":27,\"last_update\":1520855417000},{\"number\":25,\"name\":\"MERRION SQUARE EAST\",\"address\":\"Merrion Square East\",\"position\":{\"lat\":53.339434,\"lng\":-6.246548},\"banking\":false,\"bonus\":false,\"status\":\"OPEN\",\"contract_name\":\"Dublin\",\"bike_stands\":30,\"available_bike_stands\":1,\"available_bikes\":29,\"last_update\":1520855024000},{\"number\":51,\"name\":\"YORK STREET WEST\",\"address\":\"York Street West\",\"position\":{\"lat\":53.339334,\"lng\":-6.264699},\"banking\":false,\"bonus\":false,\"status\":\"OPEN\",\"contract_name\":\"Dublin\",\"bike_stands\":40,\"available_bike_stands\":27,\"available_bikes\":13,\"last_update\":1520855156000},{\"number\":37,\"name\":\"ST. STEPHEN\\'S GREEN SOUTH\",\"address\":\"St. Stephen\\'s Green South\",\"position\":{\"lat\":53.337494,\"lng\":-6.26199},\"banking\":true,\"bonus\":false,\"status\":\"OPEN\",\"contract_name\":\"Dublin\",\"bike_stands\":30,\"available_bike_stands\":27,\"available_bikes\":3,\"last_update\":1520855176000},{\"number\":59,\"name\":\"DENMARK STREET GREAT\",\"address\":\"Denmark Street Great\",\"position\":{\"lat\":53.35561,\"lng\":-6.261397},\"banking\":false,\"bonus\":false,\"status\":\"OPEN\",\"contract_name\":\"Dublin\",\"bike_stands\":20,\"available_bike_stands\":17,\"available_bikes\":3,\"last_update\":1520855111000},{\"number\":95,\"name\":\"ROYAL HOSPITAL\",\"address\":\"Royal Hospital\",\"position\":{\"lat\":53.343897,\"lng\":-6.29706},\"banking\":true,\"bonus\":false,\"status\":\"OPEN\",\"contract_name\":\"Dublin\",\"bike_stands\":40,\"available_bike_stands\":40,\"available_bikes\":0,\"last_update\":1520855288000},{\"number\":94,\"name\":\"HEUSTON STATION (CAR PARK)\",\"address\":\"Heuston Station (Car Park)\",\"position\":{\"lat\":53.346985,\"lng\":-6.297804},\"banking\":false,\"bonus\":false,\"status\":\"OPEN\",\"contract_name\":\"Dublin\",\"bike_stands\":40,\"available_bike_stands\":40,\"available_bikes\":0,\"last_update\":1520855009000},{\"number\":36,\"name\":\"ST. STEPHEN\\'S GREEN EAST\",\"address\":\"St. Stephen\\'s Green East\",\"position\":{\"lat\":53.337824,\"lng\":-6.256035},\"banking\":true,\"bonus\":false,\"status\":\"OPEN\",\"contract_name\":\"Dublin\",\"bike_stands\":40,\"available_bike_stands\":3,\"available_bikes\":37,\"last_update\":1520855286000},{\"number\":93,\"name\":\"HEUSTON STATION (CENTRAL)\",\"address\":\"Heuston Station (Central)\",\"position\":{\"lat\":53.346603,\"lng\":-6.296924},\"banking\":false,\"bonus\":false,\"status\":\"OPEN\",\"contract_name\":\"Dublin\",\"bike_stands\":40,\"available_bike_stands\":40,\"available_bikes\":0,\"last_update\":1520855346000},{\"number\":22,\"name\":\"TOWNSEND STREET\",\"address\":\"Townsend Street\",\"position\":{\"lat\":53.345922,\"lng\":-6.254614},\"banking\":false,\"bonus\":false,\"status\":\"OPEN\",\"contract_name\":\"Dublin\",\"bike_stands\":20,\"available_bike_stands\":8,\"available_bikes\":12,\"last_update\":1520855421000},{\"number\":12,\"name\":\"ECCLES STREET\",\"address\":\"Eccles Street\",\"position\":{\"lat\":53.359246,\"lng\":-6.269779},\"banking\":false,\"bonus\":false,\"status\":\"OPEN\",\"contract_name\":\"Dublin\",\"bike_stands\":20,\"available_bike_stands\":9,\"available_bikes\":11,\"last_update\":1520855169000},{\"number\":34,\"name\":\"PORTOBELLO HARBOUR\",\"address\":\"Portobello Harbour\",\"position\":{\"lat\":53.330362,\"lng\":-6.265163},\"banking\":false,\"bonus\":false,\"status\":\"OPEN\",\"contract_name\":\"Dublin\",\"bike_stands\":30,\"available_bike_stands\":30,\"available_bikes\":0,\"last_update\":1520855351000},{\"number\":78,\"name\":\"MATER HOSPITAL\",\"address\":\"Mater Hospital\",\"position\":{\"lat\":53.359967,\"lng\":-6.264828},\"banking\":false,\"bonus\":false,\"status\":\"OPEN\",\"contract_name\":\"Dublin\",\"bike_stands\":40,\"available_bike_stands\":25,\"available_bikes\":15,\"last_update\":1520855377000},{\"number\":2,\"name\":\"BLESSINGTON STREET\",\"address\":\"Blessington Street\",\"position\":{\"lat\":53.356769,\"lng\":-6.26814},\"banking\":true,\"bonus\":false,\"status\":\"OPEN\",\"contract_name\":\"Dublin\",\"bike_stands\":20,\"available_bike_stands\":20,\"available_bikes\":0,\"last_update\":1520855179000},{\"number\":75,\"name\":\"JAMES STREET\",\"address\":\"James Street\",\"position\":{\"lat\":53.343456,\"lng\":-6.287409},\"banking\":true,\"bonus\":false,\"status\":\"OPEN\",\"contract_name\":\"Dublin\",\"bike_stands\":40,\"available_bike_stands\":37,\"available_bikes\":3,\"last_update\":1520855184000},{\"number\":26,\"name\":\"MERRION SQUARE WEST\",\"address\":\"Merrion Square West\",\"position\":{\"lat\":53.339764,\"lng\":-6.251988},\"banking\":true,\"bonus\":false,\"status\":\"OPEN\",\"contract_name\":\"Dublin\",\"bike_stands\":20,\"available_bike_stands\":0,\"available_bikes\":20,\"last_update\":1520854874000},{\"number\":65,\"name\":\"CONVENTION CENTRE\",\"address\":\"Convention Centre\",\"position\":{\"lat\":53.34744,\"lng\":-6.238523},\"banking\":true,\"bonus\":false,\"status\":\"OPEN\",\"contract_name\":\"Dublin\",\"bike_stands\":40,\"available_bike_stands\":17,\"available_bikes\":22,\"last_update\":1520855344000},{\"number\":15,\"name\":\"HARDWICKE STREET\",\"address\":\"Hardwicke Street\",\"position\":{\"lat\":53.355473,\"lng\":-6.264423},\"banking\":false,\"bonus\":false,\"status\":\"OPEN\",\"contract_name\":\"Dublin\",\"bike_stands\":16,\"available_bike_stands\":14,\"available_bikes\":2,\"last_update\":1520855333000},{\"number\":86,\"name\":\"PARKGATE STREET\",\"address\":\"Parkgate Street\",\"position\":{\"lat\":53.347972,\"lng\":-6.291804},\"banking\":true,\"bonus\":false,\"status\":\"OPEN\",\"contract_name\":\"Dublin\",\"bike_stands\":38,\"available_bike_stands\":38,\"available_bikes\":0,\"last_update\":1520855149000},{\"number\":35,\"name\":\"SMITHFIELD\",\"address\":\"Smithfield\",\"position\":{\"lat\":53.347692,\"lng\":-6.278214},\"banking\":false,\"bonus\":false,\"status\":\"OPEN\",\"contract_name\":\"Dublin\",\"bike_stands\":30,\"available_bike_stands\":30,\"available_bikes\":0,\"last_update\":1520855116000},{\"number\":10,\"name\":\"DAME STREET\",\"address\":\"Dame Street\",\"position\":{\"lat\":53.344007,\"lng\":-6.266802},\"banking\":true,\"bonus\":false,\"status\":\"OPEN\",\"contract_name\":\"Dublin\",\"bike_stands\":16,\"available_bike_stands\":14,\"available_bikes\":2,\"last_update\":1520855176000},{\"number\":100,\"name\":\"HEUSTON BRIDGE (SOUTH)\",\"address\":\"Heuston Bridge (South)\",\"position\":{\"lat\":53.347106,\"lng\":-6.292041},\"banking\":false,\"bonus\":false,\"status\":\"OPEN\",\"contract_name\":\"Dublin\",\"bike_stands\":25,\"available_bike_stands\":25,\"available_bikes\":0,\"last_update\":1520855408000},{\"number\":24,\"name\":\"CATHAL BRUGHA STREET\",\"address\":\"Cathal Brugha Street\",\"position\":{\"lat\":53.352149,\"lng\":-6.260533},\"banking\":false,\"bonus\":false,\"status\":\"OPEN\",\"contract_name\":\"Dublin\",\"bike_stands\":20,\"available_bike_stands\":15,\"available_bikes\":5,\"last_update\":1520854960000},{\"number\":64,\"name\":\"SANDWITH STREET\",\"address\":\"Sandwith Street\",\"position\":{\"lat\":53.345203,\"lng\":-6.247163},\"banking\":true,\"bonus\":false,\"status\":\"CLOSED\",\"contract_name\":\"Dublin\",\"bike_stands\":40,\"available_bike_stands\":0,\"available_bikes\":0,\"last_update\":1520855142000},{\"number\":85,\"name\":\"ROTHE ABBEY\",\"address\":\"Rothe Abbey\",\"position\":{\"lat\":53.338776,\"lng\":-6.30395},\"banking\":true,\"bonus\":false,\"status\":\"OPEN\",\"contract_name\":\"Dublin\",\"bike_stands\":35,\"available_bike_stands\":35,\"available_bikes\":0,\"last_update\":1520854894000},{\"number\":33,\"name\":\"PRINCES STREET / O\\'CONNELL STREET\",\"address\":\"Princes Street / O\\'Connell Street\",\"position\":{\"lat\":53.349013,\"lng\":-6.260311},\"banking\":true,\"bonus\":false,\"status\":\"OPEN\",\"contract_name\":\"Dublin\",\"bike_stands\":23,\"available_bike_stands\":0,\"available_bikes\":23,\"last_update\":1520854999000},{\"number\":44,\"name\":\"UPPER SHERRARD STREET\",\"address\":\"Upper Sherrard Street\",\"position\":{\"lat\":53.358437,\"lng\":-6.260641},\"banking\":false,\"bonus\":false,\"status\":\"OPEN\",\"contract_name\":\"Dublin\",\"bike_stands\":30,\"available_bike_stands\":30,\"available_bikes\":0,\"last_update\":1520854959000},{\"number\":89,\"name\":\"FITZWILLIAM SQUARE EAST\",\"address\":\"Fitzwilliam Square East\",\"position\":{\"lat\":53.335211,\"lng\":-6.2509},\"banking\":true,\"bonus\":false,\"status\":\"CLOSED\",\"contract_name\":\"Dublin\",\"bike_stands\":40,\"available_bike_stands\":0,\"available_bikes\":0,\"last_update\":1520855400000},{\"number\":57,\"name\":\"GRATTAN STREET\",\"address\":\"Grattan Street\",\"position\":{\"lat\":53.339629,\"lng\":-6.243778},\"banking\":false,\"bonus\":false,\"status\":\"OPEN\",\"contract_name\":\"Dublin\",\"bike_stands\":23,\"available_bike_stands\":0,\"available_bikes\":22,\"last_update\":1520855072000},{\"number\":80,\"name\":\"ST JAMES HOSPITAL (LUAS)\",\"address\":\"St James Hospital (Luas)\",\"position\":{\"lat\":53.341359,\"lng\":-6.292951},\"banking\":false,\"bonus\":false,\"status\":\"OPEN\",\"contract_name\":\"Dublin\",\"bike_stands\":40,\"available_bike_stands\":40,\"available_bikes\":0,\"last_update\":1520855227000},{\"number\":41,\"name\":\"HARCOURT TERRACE\",\"address\":\"Harcourt Terrace\",\"position\":{\"lat\":53.332763,\"lng\":-6.257942},\"banking\":false,\"bonus\":false,\"status\":\"OPEN\",\"contract_name\":\"Dublin\",\"bike_stands\":20,\"available_bike_stands\":6,\"available_bikes\":14,\"last_update\":1520855313000},{\"number\":3,\"name\":\"BOLTON STREET\",\"address\":\"Bolton Street\",\"position\":{\"lat\":53.351182,\"lng\":-6.269859},\"banking\":false,\"bonus\":false,\"status\":\"OPEN\",\"contract_name\":\"Dublin\",\"bike_stands\":20,\"available_bike_stands\":18,\"available_bikes\":2,\"last_update\":1520855368000},{\"number\":46,\"name\":\"STRAND STREET GREAT\",\"address\":\"Strand Street Great\",\"position\":{\"lat\":53.347082,\"lng\":-6.264192},\"banking\":true,\"bonus\":false,\"status\":\"OPEN\",\"contract_name\":\"Dublin\",\"bike_stands\":35,\"available_bike_stands\":33,\"available_bikes\":2,\"last_update\":1520855404000},{\"number\":40,\"name\":\"JERVIS STREET\",\"address\":\"Jervis Street\",\"position\":{\"lat\":53.3483,\"lng\":-6.266651},\"banking\":true,\"bonus\":false,\"status\":\"OPEN\",\"contract_name\":\"Dublin\",\"bike_stands\":21,\"available_bike_stands\":17,\"available_bikes\":4,\"last_update\":1520855242000},{\"number\":29,\"name\":\"ORMOND QUAY UPPER\",\"address\":\"Ormond Quay Upper\",\"position\":{\"lat\":53.346057,\"lng\":-6.268001},\"banking\":true,\"bonus\":false,\"status\":\"OPEN\",\"contract_name\":\"Dublin\",\"bike_stands\":29,\"available_bike_stands\":25,\"available_bikes\":3,\"last_update\":1520855212000},{\"number\":70,\"name\":\"BARROW STREET\",\"address\":\"Barrow Street\",\"position\":{\"lat\":53.341655,\"lng\":-6.236198},\"banking\":true,\"bonus\":false,\"status\":\"OPEN\",\"contract_name\":\"Dublin\",\"bike_stands\":40,\"available_bike_stands\":4,\"available_bikes\":35,\"last_update\":1520855211000},{\"number\":28,\"name\":\"MOUNTJOY SQUARE WEST\",\"address\":\"Mountjoy Square West\",\"position\":{\"lat\":53.356299,\"lng\":-6.258586},\"banking\":false,\"bonus\":false,\"status\":\"OPEN\",\"contract_name\":\"Dublin\",\"bike_stands\":30,\"available_bike_stands\":22,\"available_bikes\":8,\"last_update\":1520855343000},{\"number\":39,\"name\":\"WILTON TERRACE\",\"address\":\"Wilton Terrace\",\"position\":{\"lat\":53.332383,\"lng\":-6.252717},\"banking\":true,\"bonus\":false,\"status\":\"OPEN\",\"contract_name\":\"Dublin\",\"bike_stands\":20,\"available_bike_stands\":0,\"available_bikes\":20,\"last_update\":1520855146000},{\"number\":83,\"name\":\"EMMET ROAD\",\"address\":\"Emmet Road\",\"position\":{\"lat\":53.340714,\"lng\":-6.308191},\"banking\":false,\"bonus\":false,\"status\":\"OPEN\",\"contract_name\":\"Dublin\",\"bike_stands\":40,\"available_bike_stands\":40,\"available_bikes\":0,\"last_update\":1520855435000},{\"number\":92,\"name\":\"HEUSTON BRIDGE (NORTH)\",\"address\":\"Heuston Bridge (North)\",\"position\":{\"lat\":53.347802,\"lng\":-6.292432},\"banking\":false,\"bonus\":false,\"status\":\"OPEN\",\"contract_name\":\"Dublin\",\"bike_stands\":40,\"available_bike_stands\":40,\"available_bikes\":0,\"last_update\":1520855405000},{\"number\":21,\"name\":\"LEINSTER STREET SOUTH\",\"address\":\"Leinster Street South\",\"position\":{\"lat\":53.34218,\"lng\":-6.254485},\"banking\":false,\"bonus\":false,\"status\":\"OPEN\",\"contract_name\":\"Dublin\",\"bike_stands\":30,\"available_bike_stands\":0,\"available_bikes\":30,\"last_update\":1520855203000},{\"number\":88,\"name\":\"BLACKHALL PLACE\",\"address\":\"Blackhall Place\",\"position\":{\"lat\":53.3488,\"lng\":-6.281637},\"banking\":false,\"bonus\":false,\"status\":\"OPEN\",\"contract_name\":\"Dublin\",\"bike_stands\":30,\"available_bike_stands\":29,\"available_bikes\":1,\"last_update\":1520855247000}]'\n"
     ]
    }
   ],
   "source": [
    "print (contents)"
   ]
  },
  {
   "cell_type": "code",
   "execution_count": null,
   "metadata": {
    "collapsed": true
   },
   "outputs": [],
   "source": [
    "import csv\n",
    "import requests \n",
    "from bs4 import BeautifulSoup\n",
    "url = \"https://api.jcdecaux.com/vls/v1/stations?contract=Dublin&apiKey=7ad82bb68a98a4a16979023ed867b6501b108e6e\"\n",
    "r = requests.get(url)\n",
    "f= open('filename', 'wb')\n",
    "csv_writer = csv.writer(f)\n",
    "for i in main_list:\n",
    "    csv_writer.writerow(i)\n",
    "f.close()"
   ]
  },
  {
   "cell_type": "code",
   "execution_count": null,
   "metadata": {
    "collapsed": true
   },
   "outputs": [],
   "source": [
    "#https://realpython.com/blog/python/python-web-scraping-practical-introduction/"
   ]
  },
  {
   "cell_type": "code",
   "execution_count": 6,
   "metadata": {
    "collapsed": true
   },
   "outputs": [],
   "source": [
    "from requests import get\n",
    "from requests.exceptions import RequestException\n",
    "from contextlib import closing\n",
    "from bs4 import BeautifulSoup"
   ]
  },
  {
   "cell_type": "code",
   "execution_count": 7,
   "metadata": {
    "collapsed": true
   },
   "outputs": [],
   "source": [
    "def download(url):\n",
    "    try:\n",
    "        with closing(get(url, stream=True)) as resp:\n",
    "            if is_good_response(resp):\n",
    "                return resp.content\n",
    "            else:\n",
    "                return None\n",
    "\n",
    "    except RequestException as e:\n",
    "        log_error('Error during requests to {0} : {1}'.format(url, str(e)))\n",
    "        return None\n",
    "\n",
    "\n",
    "def is_good_response(resp):\n",
    "    \"\"\"\n",
    "    Returns true if the response seems to be HTML, false otherwise\n",
    "    \"\"\"\n",
    "    content_type = resp.headers['Content-Type'].lower()\n",
    "    return (resp.status_code == 200 \n",
    "            and content_type is not None \n",
    "            and content_type.find('html') > -1)\n",
    "\n",
    "\n",
    "def log_error(e):\n",
    "    \"\"\"\n",
    "    It is always a good idea to log errors. \n",
    "    This function just prints them, but you can\n",
    "    make it do anything.\n",
    "    \"\"\"\n",
    "    print(e)"
   ]
  },
  {
   "cell_type": "code",
   "execution_count": 12,
   "metadata": {},
   "outputs": [
    {
     "data": {
      "text/plain": [
       "122891"
      ]
     },
     "execution_count": 12,
     "metadata": {},
     "output_type": "execute_result"
    }
   ],
   "source": [
    "raw_html = download('https://realpython.com/blog/')\n",
    "len(raw_html)"
   ]
  },
  {
   "cell_type": "code",
   "execution_count": 11,
   "metadata": {},
   "outputs": [
    {
     "data": {
      "text/plain": [
       "True"
      ]
     },
     "execution_count": 11,
     "metadata": {},
     "output_type": "execute_result"
    }
   ],
   "source": [
    "no_html = download('https://api.jcdecaux.com/vls/v1/stations?contract=Dublin&apiKey=7ad82bb68a98a4a16979023ed867b6501b108e6e')\n",
    "no_html is None"
   ]
  },
  {
   "cell_type": "code",
   "execution_count": 13,
   "metadata": {
    "collapsed": true
   },
   "outputs": [],
   "source": [
    "import urllib.request\n",
    "contents = urllib.request.urlopen(\"https://api.jcdecaux.com/vls/v1/stations?contract=Dublin&apiKey=7ad82bb68a98a4a16979023ed867b6501b108e6e\").read()"
   ]
  },
  {
   "cell_type": "code",
   "execution_count": 15,
   "metadata": {},
   "outputs": [
    {
     "name": "stdout",
     "output_type": "stream",
     "text": [
      "<class 'bytes'>\n"
     ]
    }
   ],
   "source": [
    "print (type(contents))"
   ]
  },
  {
   "cell_type": "code",
   "execution_count": 16,
   "metadata": {},
   "outputs": [
    {
     "name": "stdout",
     "output_type": "stream",
     "text": [
      "b'[{\"number\":42,\"name\":\"SMITHFIELD NORTH\",\"address\":\"Smithfield North\",\"position\":{\"lat\":53.349562,\"lng\":-6.278198},\"banking\":true,\"bonus\":false,\"status\":\"OPEN\",\"contract_name\":\"Dublin\",\"bike_stands\":30,\"available_bike_stands\":24,\"available_bikes\":6,\"last_update\":1520858069000},{\"number\":30,\"name\":\"PARNELL SQUARE NORTH\",\"address\":\"Parnell Square North\",\"position\":{\"lat\":53.353462,\"lng\":-6.265305},\"banking\":true,\"bonus\":false,\"status\":\"OPEN\",\"contract_name\":\"Dublin\",\"bike_stands\":20,\"available_bike_stands\":20,\"available_bikes\":0,\"last_update\":1520857689000},{\"number\":54,\"name\":\"CLONMEL STREET\",\"address\":\"Clonmel Street\",\"position\":{\"lat\":53.336021,\"lng\":-6.26298},\"banking\":false,\"bonus\":false,\"status\":\"OPEN\",\"contract_name\":\"Dublin\",\"bike_stands\":33,\"available_bike_stands\":16,\"available_bikes\":17,\"last_update\":1520857781000},{\"number\":56,\"name\":\"MOUNT STREET LOWER\",\"address\":\"Mount Street Lower\",\"position\":{\"lat\":53.33796,\"lng\":-6.24153},\"banking\":false,\"bonus\":false,\"status\":\"OPEN\",\"contract_name\":\"Dublin\",\"bike_stands\":40,\"available_bike_stands\":14,\"available_bikes\":26,\"last_update\":1520858165000},{\"number\":6,\"name\":\"CHRISTCHURCH PLACE\",\"address\":\"Christchurch Place\",\"position\":{\"lat\":53.343368,\"lng\":-6.27012},\"banking\":false,\"bonus\":false,\"status\":\"OPEN\",\"contract_name\":\"Dublin\",\"bike_stands\":20,\"available_bike_stands\":20,\"available_bikes\":0,\"last_update\":1520857992000},{\"number\":18,\"name\":\"GRANTHAM STREET\",\"address\":\"Grantham Street\",\"position\":{\"lat\":53.334123,\"lng\":-6.265436},\"banking\":true,\"bonus\":false,\"status\":\"OPEN\",\"contract_name\":\"Dublin\",\"bike_stands\":30,\"available_bike_stands\":28,\"available_bikes\":2,\"last_update\":1520858166000},{\"number\":32,\"name\":\"PEARSE STREET\",\"address\":\"Pearse Street\",\"position\":{\"lat\":53.344304,\"lng\":-6.250427},\"banking\":true,\"bonus\":false,\"status\":\"OPEN\",\"contract_name\":\"Dublin\",\"bike_stands\":30,\"available_bike_stands\":13,\"available_bikes\":17,\"last_update\":1520858180000},{\"number\":52,\"name\":\"YORK STREET EAST\",\"address\":\"York Street East\",\"position\":{\"lat\":53.338755,\"lng\":-6.262003},\"banking\":false,\"bonus\":false,\"status\":\"OPEN\",\"contract_name\":\"Dublin\",\"bike_stands\":32,\"available_bike_stands\":13,\"available_bikes\":19,\"last_update\":1520857919000},{\"number\":48,\"name\":\"EXCISE WALK\",\"address\":\"Excise Walk\",\"position\":{\"lat\":53.347777,\"lng\":-6.244239},\"banking\":false,\"bonus\":false,\"status\":\"OPEN\",\"contract_name\":\"Dublin\",\"bike_stands\":40,\"available_bike_stands\":0,\"available_bikes\":40,\"last_update\":1520858105000},{\"number\":13,\"name\":\"FITZWILLIAM SQUARE WEST\",\"address\":\"Fitzwilliam Square West\",\"position\":{\"lat\":53.336074,\"lng\":-6.252825},\"banking\":false,\"bonus\":false,\"status\":\"OPEN\",\"contract_name\":\"Dublin\",\"bike_stands\":30,\"available_bike_stands\":10,\"available_bikes\":20,\"last_update\":1520857889000},{\"number\":43,\"name\":\"PORTOBELLO ROAD\",\"address\":\"Portobello Road\",\"position\":{\"lat\":53.330091,\"lng\":-6.268044},\"banking\":true,\"bonus\":false,\"status\":\"OPEN\",\"contract_name\":\"Dublin\",\"bike_stands\":30,\"available_bike_stands\":29,\"available_bikes\":1,\"last_update\":1520857863000},{\"number\":81,\"name\":\"ST. JAMES HOSPITAL (CENTRAL)\",\"address\":\"St. James Hospital (Central)\",\"position\":{\"lat\":53.339983,\"lng\":-6.295594},\"banking\":false,\"bonus\":false,\"status\":\"OPEN\",\"contract_name\":\"Dublin\",\"bike_stands\":40,\"available_bike_stands\":40,\"available_bikes\":0,\"last_update\":1520858151000},{\"number\":31,\"name\":\"PARNELL STREET\",\"address\":\"Parnell Street\",\"position\":{\"lat\":53.350929,\"lng\":-6.265125},\"banking\":false,\"bonus\":false,\"status\":\"OPEN\",\"contract_name\":\"Dublin\",\"bike_stands\":20,\"available_bike_stands\":18,\"available_bikes\":2,\"last_update\":1520858041000},{\"number\":98,\"name\":\"FREDERICK STREET SOUTH\",\"address\":\"Frederick Street South\",\"position\":{\"lat\":53.341515,\"lng\":-6.256853},\"banking\":true,\"bonus\":false,\"status\":\"OPEN\",\"contract_name\":\"Dublin\",\"bike_stands\":30,\"available_bike_stands\":0,\"available_bikes\":20,\"last_update\":1520858116000},{\"number\":14,\"name\":\"FOWNES STREET UPPER\",\"address\":\"Fownes Street Upper\",\"position\":{\"lat\":53.344603,\"lng\":-6.263371},\"banking\":false,\"bonus\":false,\"status\":\"OPEN\",\"contract_name\":\"Dublin\",\"bike_stands\":30,\"available_bike_stands\":14,\"available_bikes\":16,\"last_update\":1520857857000},{\"number\":1,\"name\":\"CLARENDON ROW\",\"address\":\"Clarendon Row\",\"position\":{\"lat\":53.340927,\"lng\":-6.262501},\"banking\":false,\"bonus\":false,\"status\":\"OPEN\",\"contract_name\":\"Dublin\",\"bike_stands\":31,\"available_bike_stands\":1,\"available_bikes\":30,\"last_update\":1520858076000},{\"number\":23,\"name\":\"CUSTOM HOUSE\",\"address\":\"Custom House\",\"position\":{\"lat\":53.348279,\"lng\":-6.254662},\"banking\":true,\"bonus\":false,\"status\":\"OPEN\",\"contract_name\":\"Dublin\",\"bike_stands\":30,\"available_bike_stands\":26,\"available_bikes\":4,\"last_update\":1520857932000},{\"number\":68,\"name\":\"HANOVER QUAY\",\"address\":\"Hanover Quay\",\"position\":{\"lat\":53.344115,\"lng\":-6.237153},\"banking\":true,\"bonus\":false,\"status\":\"OPEN\",\"contract_name\":\"Dublin\",\"bike_stands\":40,\"available_bike_stands\":3,\"available_bikes\":37,\"last_update\":1520858012000},{\"number\":74,\"name\":\"OLIVER BOND STREET\",\"address\":\"Oliver Bond Street\",\"position\":{\"lat\":53.343893,\"lng\":-6.280531},\"banking\":false,\"bonus\":false,\"status\":\"OPEN\",\"contract_name\":\"Dublin\",\"bike_stands\":30,\"available_bike_stands\":28,\"available_bikes\":2,\"last_update\":1520858114000},{\"number\":87,\"name\":\"COLLINS BARRACKS MUSEUM\",\"address\":\"Collins Barracks Museum\",\"position\":{\"lat\":53.347477,\"lng\":-6.28525},\"banking\":true,\"bonus\":false,\"status\":\"OPEN\",\"contract_name\":\"Dublin\",\"bike_stands\":38,\"available_bike_stands\":38,\"available_bikes\":0,\"last_update\":1520858088000},{\"number\":84,\"name\":\"BROOKFIELD ROAD\",\"address\":\"Brookfield Road\",\"position\":{\"lat\":53.339005,\"lng\":-6.300217},\"banking\":false,\"bonus\":false,\"status\":\"OPEN\",\"contract_name\":\"Dublin\",\"bike_stands\":30,\"available_bike_stands\":30,\"available_bikes\":0,\"last_update\":1520858050000},{\"number\":90,\"name\":\"BENSON STREET\",\"address\":\"Benson Street\",\"position\":{\"lat\":53.344153,\"lng\":-6.233451},\"banking\":false,\"bonus\":false,\"status\":\"CLOSED\",\"contract_name\":\"Dublin\",\"bike_stands\":40,\"available_bike_stands\":0,\"available_bikes\":0,\"last_update\":1520857855000},{\"number\":11,\"name\":\"EARLSFORT TERRACE\",\"address\":\"Earlsfort Terrace\",\"position\":{\"lat\":53.334019,\"lng\":-6.258371},\"banking\":false,\"bonus\":false,\"status\":\"OPEN\",\"contract_name\":\"Dublin\",\"bike_stands\":30,\"available_bike_stands\":11,\"available_bikes\":19,\"last_update\":1520858182000},{\"number\":17,\"name\":\"GOLDEN LANE\",\"address\":\"Golden Lane\",\"position\":{\"lat\":53.340803,\"lng\":-6.267732},\"banking\":false,\"bonus\":false,\"status\":\"OPEN\",\"contract_name\":\"Dublin\",\"bike_stands\":20,\"available_bike_stands\":16,\"available_bikes\":4,\"last_update\":1520858189000},{\"number\":45,\"name\":\"DEVERELL PLACE\",\"address\":\"Deverell Place\",\"position\":{\"lat\":53.351464,\"lng\":-6.255265},\"banking\":false,\"bonus\":false,\"status\":\"OPEN\",\"contract_name\":\"Dublin\",\"bike_stands\":30,\"available_bike_stands\":15,\"available_bikes\":15,\"last_update\":1520858193000},{\"number\":72,\"name\":\"JOHN STREET WEST\",\"address\":\"John Street West\",\"position\":{\"lat\":53.343105,\"lng\":-6.277167},\"banking\":false,\"bonus\":false,\"status\":\"OPEN\",\"contract_name\":\"Dublin\",\"bike_stands\":31,\"available_bike_stands\":30,\"available_bikes\":1,\"last_update\":1520858176000},{\"number\":63,\"name\":\"FENIAN STREET\",\"address\":\"Fenian Street\",\"position\":{\"lat\":53.341428,\"lng\":-6.24672},\"banking\":false,\"bonus\":false,\"status\":\"OPEN\",\"contract_name\":\"Dublin\",\"bike_stands\":35,\"available_bike_stands\":0,\"available_bikes\":35,\"last_update\":1520858168000},{\"number\":91,\"name\":\"SOUTH DOCK ROAD\",\"address\":\"South Dock Road\",\"position\":{\"lat\":53.341833,\"lng\":-6.231291},\"banking\":false,\"bonus\":false,\"status\":\"OPEN\",\"contract_name\":\"Dublin\",\"bike_stands\":30,\"available_bike_stands\":13,\"available_bikes\":17,\"last_update\":1520857983000},{\"number\":99,\"name\":\"CITY QUAY\",\"address\":\"City Quay\",\"position\":{\"lat\":53.346637,\"lng\":-6.246154},\"banking\":false,\"bonus\":false,\"status\":\"OPEN\",\"contract_name\":\"Dublin\",\"bike_stands\":30,\"available_bike_stands\":1,\"available_bikes\":29,\"last_update\":1520858124000},{\"number\":9,\"name\":\"EXCHEQUER STREET\",\"address\":\"Exchequer Street\",\"position\":{\"lat\":53.343034,\"lng\":-6.263578},\"banking\":false,\"bonus\":false,\"status\":\"OPEN\",\"contract_name\":\"Dublin\",\"bike_stands\":24,\"available_bike_stands\":7,\"available_bikes\":16,\"last_update\":1520858106000},{\"number\":67,\"name\":\"THE POINT\",\"address\":\"The Point\",\"position\":{\"lat\":53.346867,\"lng\":-6.230852},\"banking\":false,\"bonus\":false,\"status\":\"OPEN\",\"contract_name\":\"Dublin\",\"bike_stands\":40,\"available_bike_stands\":9,\"available_bikes\":30,\"last_update\":1520857962000},{\"number\":55,\"name\":\"HATCH STREET\",\"address\":\"Hatch Street\",\"position\":{\"lat\":53.33403,\"lng\":-6.260714},\"banking\":false,\"bonus\":false,\"status\":\"OPEN\",\"contract_name\":\"Dublin\",\"bike_stands\":36,\"available_bike_stands\":6,\"available_bikes\":30,\"last_update\":1520857954000},{\"number\":62,\"name\":\"LIME STREET\",\"address\":\"Lime Street\",\"position\":{\"lat\":53.346026,\"lng\":-6.243576},\"banking\":false,\"bonus\":false,\"status\":\"OPEN\",\"contract_name\":\"Dublin\",\"bike_stands\":40,\"available_bike_stands\":3,\"available_bikes\":34,\"last_update\":1520858078000},{\"number\":5,\"name\":\"CHARLEMONT PLACE\",\"address\":\"Charlemont Street\",\"position\":{\"lat\":53.330662,\"lng\":-6.260177},\"banking\":false,\"bonus\":false,\"status\":\"OPEN\",\"contract_name\":\"Dublin\",\"bike_stands\":40,\"available_bike_stands\":27,\"available_bikes\":13,\"last_update\":1520858182000},{\"number\":97,\"name\":\"KILMAINHAM GAOL\",\"address\":\"Kilmainham Gaol\",\"position\":{\"lat\":53.342113,\"lng\":-6.310015},\"banking\":true,\"bonus\":false,\"status\":\"OPEN\",\"contract_name\":\"Dublin\",\"bike_stands\":40,\"available_bike_stands\":37,\"available_bikes\":3,\"last_update\":1520858069000},{\"number\":61,\"name\":\"HARDWICKE PLACE\",\"address\":\"Hardwicke Place\",\"position\":{\"lat\":53.357043,\"lng\":-6.263232},\"banking\":true,\"bonus\":false,\"status\":\"OPEN\",\"contract_name\":\"Dublin\",\"bike_stands\":25,\"available_bike_stands\":25,\"available_bikes\":0,\"last_update\":1520858122000},{\"number\":77,\"name\":\"WOLFE TONE STREET\",\"address\":\"Wolfe Tone Street\",\"position\":{\"lat\":53.348875,\"lng\":-6.267459},\"banking\":false,\"bonus\":false,\"status\":\"OPEN\",\"contract_name\":\"Dublin\",\"bike_stands\":29,\"available_bike_stands\":29,\"available_bikes\":0,\"last_update\":1520858074000},{\"number\":73,\"name\":\"FRANCIS STREET\",\"address\":\"Francis Street\",\"position\":{\"lat\":53.342081,\"lng\":-6.275233},\"banking\":true,\"bonus\":false,\"status\":\"OPEN\",\"contract_name\":\"Dublin\",\"bike_stands\":30,\"available_bike_stands\":29,\"available_bikes\":1,\"last_update\":1520857945000},{\"number\":4,\"name\":\"GREEK STREET\",\"address\":\"Greek Street\",\"position\":{\"lat\":53.346874,\"lng\":-6.272976},\"banking\":false,\"bonus\":false,\"status\":\"OPEN\",\"contract_name\":\"Dublin\",\"bike_stands\":20,\"available_bike_stands\":20,\"available_bikes\":0,\"last_update\":1520857742000},{\"number\":49,\"name\":\"GUILD STREET\",\"address\":\"Guild Street\",\"position\":{\"lat\":53.347932,\"lng\":-6.240928},\"banking\":false,\"bonus\":false,\"status\":\"OPEN\",\"contract_name\":\"Dublin\",\"bike_stands\":40,\"available_bike_stands\":3,\"available_bikes\":35,\"last_update\":1520857992000},{\"number\":19,\"name\":\"HERBERT PLACE\",\"address\":\"Herbert Place\",\"position\":{\"lat\":53.334432,\"lng\":-6.245575},\"banking\":false,\"bonus\":false,\"status\":\"OPEN\",\"contract_name\":\"Dublin\",\"bike_stands\":30,\"available_bike_stands\":11,\"available_bikes\":19,\"last_update\":1520858184000},{\"number\":7,\"name\":\"HIGH STREET\",\"address\":\"High Street\",\"position\":{\"lat\":53.343565,\"lng\":-6.275071},\"banking\":true,\"bonus\":false,\"status\":\"OPEN\",\"contract_name\":\"Dublin\",\"bike_stands\":29,\"available_bike_stands\":29,\"available_bikes\":0,\"last_update\":1520857647000},{\"number\":60,\"name\":\"NORTH CIRCULAR ROAD\",\"address\":\"North Circular Road\",\"position\":{\"lat\":53.359624,\"lng\":-6.260348},\"banking\":true,\"bonus\":false,\"status\":\"OPEN\",\"contract_name\":\"Dublin\",\"bike_stands\":30,\"available_bike_stands\":29,\"available_bikes\":1,\"last_update\":1520857747000},{\"number\":102,\"name\":\"WESTERN WAY\",\"address\":\"Western Way\",\"position\":{\"lat\":53.354929,\"lng\":-6.269425},\"banking\":false,\"bonus\":false,\"status\":\"OPEN\",\"contract_name\":\"Dublin\",\"bike_stands\":40,\"available_bike_stands\":39,\"available_bikes\":1,\"last_update\":1520857994000},{\"number\":38,\"name\":\"TALBOT STREET\",\"address\":\"Talbot Street\",\"position\":{\"lat\":53.350974,\"lng\":-6.25294},\"banking\":false,\"bonus\":false,\"status\":\"OPEN\",\"contract_name\":\"Dublin\",\"bike_stands\":40,\"available_bike_stands\":35,\"available_bikes\":5,\"last_update\":1520858158000},{\"number\":53,\"name\":\"NEWMAN HOUSE\",\"address\":\"Newman House\",\"position\":{\"lat\":53.337132,\"lng\":-6.26059},\"banking\":false,\"bonus\":false,\"status\":\"OPEN\",\"contract_name\":\"Dublin\",\"bike_stands\":40,\"available_bike_stands\":13,\"available_bikes\":27,\"last_update\":1520857951000},{\"number\":58,\"name\":\"SIR PATRICK DUN\\'S\",\"address\":\"Sir Patrick\\'s Dun\",\"position\":{\"lat\":53.339218,\"lng\":-6.240642},\"banking\":true,\"bonus\":false,\"status\":\"OPEN\",\"contract_name\":\"Dublin\",\"bike_stands\":40,\"available_bike_stands\":7,\"available_bikes\":33,\"last_update\":1520858146000},{\"number\":66,\"name\":\"NEW CENTRAL BANK\",\"address\":\"New Central Bank\",\"position\":{\"lat\":53.347122,\"lng\":-6.234749},\"banking\":false,\"bonus\":false,\"status\":\"OPEN\",\"contract_name\":\"Dublin\",\"bike_stands\":40,\"available_bike_stands\":14,\"available_bikes\":26,\"last_update\":1520858172000},{\"number\":101,\"name\":\"KING STREET NORTH\",\"address\":\"King Street North\",\"position\":{\"lat\":53.350291,\"lng\":-6.273507},\"banking\":false,\"bonus\":false,\"status\":\"OPEN\",\"contract_name\":\"Dublin\",\"bike_stands\":30,\"available_bike_stands\":27,\"available_bikes\":3,\"last_update\":1520857627000},{\"number\":47,\"name\":\"HERBERT STREET\",\"address\":\"Herbert Street\",\"position\":{\"lat\":53.335742,\"lng\":-6.24551},\"banking\":false,\"bonus\":false,\"status\":\"OPEN\",\"contract_name\":\"Dublin\",\"bike_stands\":40,\"available_bike_stands\":4,\"available_bikes\":36,\"last_update\":1520858174000},{\"number\":8,\"name\":\"CUSTOM HOUSE QUAY\",\"address\":\"Custom House Quay\",\"position\":{\"lat\":53.347884,\"lng\":-6.248048},\"banking\":false,\"bonus\":false,\"status\":\"OPEN\",\"contract_name\":\"Dublin\",\"bike_stands\":30,\"available_bike_stands\":4,\"available_bikes\":23,\"last_update\":1520858195000},{\"number\":27,\"name\":\"MOLESWORTH STREET\",\"address\":\"Molesworth Street\",\"position\":{\"lat\":53.341288,\"lng\":-6.258117},\"banking\":false,\"bonus\":false,\"status\":\"OPEN\",\"contract_name\":\"Dublin\",\"bike_stands\":20,\"available_bike_stands\":1,\"available_bikes\":19,\"last_update\":1520858050000},{\"number\":16,\"name\":\"GEORGES QUAY\",\"address\":\"Georges Quay\",\"position\":{\"lat\":53.347508,\"lng\":-6.252192},\"banking\":false,\"bonus\":false,\"status\":\"OPEN\",\"contract_name\":\"Dublin\",\"bike_stands\":20,\"available_bike_stands\":7,\"available_bikes\":13,\"last_update\":1520858192000},{\"number\":96,\"name\":\"KILMAINHAM LANE\",\"address\":\"Kilmainham Lane\",\"position\":{\"lat\":53.341805,\"lng\":-6.305085},\"banking\":false,\"bonus\":false,\"status\":\"OPEN\",\"contract_name\":\"Dublin\",\"bike_stands\":30,\"available_bike_stands\":28,\"available_bikes\":2,\"last_update\":1520858028000},{\"number\":82,\"name\":\"MOUNT BROWN\",\"address\":\"Mount Brown\",\"position\":{\"lat\":53.341645,\"lng\":-6.29719},\"banking\":false,\"bonus\":false,\"status\":\"OPEN\",\"contract_name\":\"Dublin\",\"bike_stands\":22,\"available_bike_stands\":22,\"available_bikes\":0,\"last_update\":1520857978000},{\"number\":76,\"name\":\"MARKET STREET SOUTH\",\"address\":\"Market Street South\",\"position\":{\"lat\":53.342296,\"lng\":-6.287661},\"banking\":false,\"bonus\":false,\"status\":\"OPEN\",\"contract_name\":\"Dublin\",\"bike_stands\":38,\"available_bike_stands\":38,\"available_bikes\":0,\"last_update\":1520857771000},{\"number\":71,\"name\":\"KEVIN STREET\",\"address\":\"Kevin Street\",\"position\":{\"lat\":53.337757,\"lng\":-6.267699},\"banking\":true,\"bonus\":false,\"status\":\"OPEN\",\"contract_name\":\"Dublin\",\"bike_stands\":40,\"available_bike_stands\":12,\"available_bikes\":28,\"last_update\":1520858075000},{\"number\":79,\"name\":\"ECCLES STREET EAST\",\"address\":\"Eccles Street East\",\"position\":{\"lat\":53.358115,\"lng\":-6.265601},\"banking\":false,\"bonus\":false,\"status\":\"OPEN\",\"contract_name\":\"Dublin\",\"bike_stands\":27,\"available_bike_stands\":27,\"available_bikes\":0,\"last_update\":1520858108000},{\"number\":69,\"name\":\"GRAND CANAL DOCK\",\"address\":\"Grand Canal Dock\",\"position\":{\"lat\":53.342638,\"lng\":-6.238695},\"banking\":false,\"bonus\":false,\"status\":\"OPEN\",\"contract_name\":\"Dublin\",\"bike_stands\":40,\"available_bike_stands\":10,\"available_bikes\":30,\"last_update\":1520858117000},{\"number\":25,\"name\":\"MERRION SQUARE EAST\",\"address\":\"Merrion Square East\",\"position\":{\"lat\":53.339434,\"lng\":-6.246548},\"banking\":false,\"bonus\":false,\"status\":\"OPEN\",\"contract_name\":\"Dublin\",\"bike_stands\":30,\"available_bike_stands\":1,\"available_bikes\":29,\"last_update\":1520858033000},{\"number\":51,\"name\":\"YORK STREET WEST\",\"address\":\"York Street West\",\"position\":{\"lat\":53.339334,\"lng\":-6.264699},\"banking\":false,\"bonus\":false,\"status\":\"OPEN\",\"contract_name\":\"Dublin\",\"bike_stands\":40,\"available_bike_stands\":28,\"available_bikes\":12,\"last_update\":1520858179000},{\"number\":37,\"name\":\"ST. STEPHEN\\'S GREEN SOUTH\",\"address\":\"St. Stephen\\'s Green South\",\"position\":{\"lat\":53.337494,\"lng\":-6.26199},\"banking\":true,\"bonus\":false,\"status\":\"OPEN\",\"contract_name\":\"Dublin\",\"bike_stands\":30,\"available_bike_stands\":28,\"available_bikes\":2,\"last_update\":1520858096000},{\"number\":59,\"name\":\"DENMARK STREET GREAT\",\"address\":\"Denmark Street Great\",\"position\":{\"lat\":53.35561,\"lng\":-6.261397},\"banking\":false,\"bonus\":false,\"status\":\"OPEN\",\"contract_name\":\"Dublin\",\"bike_stands\":20,\"available_bike_stands\":18,\"available_bikes\":2,\"last_update\":1520857781000},{\"number\":95,\"name\":\"ROYAL HOSPITAL\",\"address\":\"Royal Hospital\",\"position\":{\"lat\":53.343897,\"lng\":-6.29706},\"banking\":true,\"bonus\":false,\"status\":\"OPEN\",\"contract_name\":\"Dublin\",\"bike_stands\":40,\"available_bike_stands\":40,\"available_bikes\":0,\"last_update\":1520857677000},{\"number\":94,\"name\":\"HEUSTON STATION (CAR PARK)\",\"address\":\"Heuston Station (Car Park)\",\"position\":{\"lat\":53.346985,\"lng\":-6.297804},\"banking\":false,\"bonus\":false,\"status\":\"OPEN\",\"contract_name\":\"Dublin\",\"bike_stands\":40,\"available_bike_stands\":40,\"available_bikes\":0,\"last_update\":1520858056000},{\"number\":36,\"name\":\"ST. STEPHEN\\'S GREEN EAST\",\"address\":\"St. Stephen\\'s Green East\",\"position\":{\"lat\":53.337824,\"lng\":-6.256035},\"banking\":true,\"bonus\":false,\"status\":\"OPEN\",\"contract_name\":\"Dublin\",\"bike_stands\":40,\"available_bike_stands\":1,\"available_bikes\":39,\"last_update\":1520857748000},{\"number\":93,\"name\":\"HEUSTON STATION (CENTRAL)\",\"address\":\"Heuston Station (Central)\",\"position\":{\"lat\":53.346603,\"lng\":-6.296924},\"banking\":false,\"bonus\":false,\"status\":\"OPEN\",\"contract_name\":\"Dublin\",\"bike_stands\":40,\"available_bike_stands\":40,\"available_bikes\":0,\"last_update\":1520857782000},{\"number\":22,\"name\":\"TOWNSEND STREET\",\"address\":\"Townsend Street\",\"position\":{\"lat\":53.345922,\"lng\":-6.254614},\"banking\":false,\"bonus\":false,\"status\":\"OPEN\",\"contract_name\":\"Dublin\",\"bike_stands\":20,\"available_bike_stands\":0,\"available_bikes\":20,\"last_update\":1520857934000},{\"number\":12,\"name\":\"ECCLES STREET\",\"address\":\"Eccles Street\",\"position\":{\"lat\":53.359246,\"lng\":-6.269779},\"banking\":false,\"bonus\":false,\"status\":\"OPEN\",\"contract_name\":\"Dublin\",\"bike_stands\":20,\"available_bike_stands\":12,\"available_bikes\":8,\"last_update\":1520858185000},{\"number\":34,\"name\":\"PORTOBELLO HARBOUR\",\"address\":\"Portobello Harbour\",\"position\":{\"lat\":53.330362,\"lng\":-6.265163},\"banking\":false,\"bonus\":false,\"status\":\"OPEN\",\"contract_name\":\"Dublin\",\"bike_stands\":30,\"available_bike_stands\":26,\"available_bikes\":4,\"last_update\":1520857613000},{\"number\":78,\"name\":\"MATER HOSPITAL\",\"address\":\"Mater Hospital\",\"position\":{\"lat\":53.359967,\"lng\":-6.264828},\"banking\":false,\"bonus\":false,\"status\":\"OPEN\",\"contract_name\":\"Dublin\",\"bike_stands\":40,\"available_bike_stands\":28,\"available_bikes\":12,\"last_update\":1520857835000},{\"number\":2,\"name\":\"BLESSINGTON STREET\",\"address\":\"Blessington Street\",\"position\":{\"lat\":53.356769,\"lng\":-6.26814},\"banking\":true,\"bonus\":false,\"status\":\"OPEN\",\"contract_name\":\"Dublin\",\"bike_stands\":20,\"available_bike_stands\":20,\"available_bikes\":0,\"last_update\":1520857982000},{\"number\":75,\"name\":\"JAMES STREET\",\"address\":\"James Street\",\"position\":{\"lat\":53.343456,\"lng\":-6.287409},\"banking\":true,\"bonus\":false,\"status\":\"OPEN\",\"contract_name\":\"Dublin\",\"bike_stands\":40,\"available_bike_stands\":40,\"available_bikes\":0,\"last_update\":1520857835000},{\"number\":26,\"name\":\"MERRION SQUARE WEST\",\"address\":\"Merrion Square West\",\"position\":{\"lat\":53.339764,\"lng\":-6.251988},\"banking\":true,\"bonus\":false,\"status\":\"OPEN\",\"contract_name\":\"Dublin\",\"bike_stands\":20,\"available_bike_stands\":0,\"available_bikes\":20,\"last_update\":1520857920000},{\"number\":65,\"name\":\"CONVENTION CENTRE\",\"address\":\"Convention Centre\",\"position\":{\"lat\":53.34744,\"lng\":-6.238523},\"banking\":true,\"bonus\":false,\"status\":\"OPEN\",\"contract_name\":\"Dublin\",\"bike_stands\":40,\"available_bike_stands\":21,\"available_bikes\":18,\"last_update\":1520858037000},{\"number\":15,\"name\":\"HARDWICKE STREET\",\"address\":\"Hardwicke Street\",\"position\":{\"lat\":53.355473,\"lng\":-6.264423},\"banking\":false,\"bonus\":false,\"status\":\"OPEN\",\"contract_name\":\"Dublin\",\"bike_stands\":16,\"available_bike_stands\":16,\"available_bikes\":0,\"last_update\":1520858158000},{\"number\":86,\"name\":\"PARKGATE STREET\",\"address\":\"Parkgate Street\",\"position\":{\"lat\":53.347972,\"lng\":-6.291804},\"banking\":true,\"bonus\":false,\"status\":\"OPEN\",\"contract_name\":\"Dublin\",\"bike_stands\":38,\"available_bike_stands\":37,\"available_bikes\":1,\"last_update\":1520858142000},{\"number\":35,\"name\":\"SMITHFIELD\",\"address\":\"Smithfield\",\"position\":{\"lat\":53.347692,\"lng\":-6.278214},\"banking\":false,\"bonus\":false,\"status\":\"OPEN\",\"contract_name\":\"Dublin\",\"bike_stands\":30,\"available_bike_stands\":28,\"available_bikes\":2,\"last_update\":1520857729000},{\"number\":10,\"name\":\"DAME STREET\",\"address\":\"Dame Street\",\"position\":{\"lat\":53.344007,\"lng\":-6.266802},\"banking\":true,\"bonus\":false,\"status\":\"OPEN\",\"contract_name\":\"Dublin\",\"bike_stands\":16,\"available_bike_stands\":12,\"available_bikes\":4,\"last_update\":1520858143000},{\"number\":100,\"name\":\"HEUSTON BRIDGE (SOUTH)\",\"address\":\"Heuston Bridge (South)\",\"position\":{\"lat\":53.347106,\"lng\":-6.292041},\"banking\":false,\"bonus\":false,\"status\":\"OPEN\",\"contract_name\":\"Dublin\",\"bike_stands\":25,\"available_bike_stands\":24,\"available_bikes\":1,\"last_update\":1520857712000},{\"number\":24,\"name\":\"CATHAL BRUGHA STREET\",\"address\":\"Cathal Brugha Street\",\"position\":{\"lat\":53.352149,\"lng\":-6.260533},\"banking\":false,\"bonus\":false,\"status\":\"OPEN\",\"contract_name\":\"Dublin\",\"bike_stands\":20,\"available_bike_stands\":8,\"available_bikes\":12,\"last_update\":1520858159000},{\"number\":64,\"name\":\"SANDWITH STREET\",\"address\":\"Sandwith Street\",\"position\":{\"lat\":53.345203,\"lng\":-6.247163},\"banking\":true,\"bonus\":false,\"status\":\"CLOSED\",\"contract_name\":\"Dublin\",\"bike_stands\":40,\"available_bike_stands\":0,\"available_bikes\":0,\"last_update\":1520858190000},{\"number\":85,\"name\":\"ROTHE ABBEY\",\"address\":\"Rothe Abbey\",\"position\":{\"lat\":53.338776,\"lng\":-6.30395},\"banking\":true,\"bonus\":false,\"status\":\"OPEN\",\"contract_name\":\"Dublin\",\"bike_stands\":35,\"available_bike_stands\":26,\"available_bikes\":9,\"last_update\":1520858131000},{\"number\":33,\"name\":\"PRINCES STREET / O\\'CONNELL STREET\",\"address\":\"Princes Street / O\\'Connell Street\",\"position\":{\"lat\":53.349013,\"lng\":-6.260311},\"banking\":true,\"bonus\":false,\"status\":\"OPEN\",\"contract_name\":\"Dublin\",\"bike_stands\":23,\"available_bike_stands\":1,\"available_bikes\":22,\"last_update\":1520858095000},{\"number\":44,\"name\":\"UPPER SHERRARD STREET\",\"address\":\"Upper Sherrard Street\",\"position\":{\"lat\":53.358437,\"lng\":-6.260641},\"banking\":false,\"bonus\":false,\"status\":\"OPEN\",\"contract_name\":\"Dublin\",\"bike_stands\":30,\"available_bike_stands\":29,\"available_bikes\":1,\"last_update\":1520858011000},{\"number\":89,\"name\":\"FITZWILLIAM SQUARE EAST\",\"address\":\"Fitzwilliam Square East\",\"position\":{\"lat\":53.335211,\"lng\":-6.2509},\"banking\":true,\"bonus\":false,\"status\":\"CLOSED\",\"contract_name\":\"Dublin\",\"bike_stands\":40,\"available_bike_stands\":0,\"available_bikes\":0,\"last_update\":1520857839000},{\"number\":57,\"name\":\"GRATTAN STREET\",\"address\":\"Grattan Street\",\"position\":{\"lat\":53.339629,\"lng\":-6.243778},\"banking\":false,\"bonus\":false,\"status\":\"OPEN\",\"contract_name\":\"Dublin\",\"bike_stands\":23,\"available_bike_stands\":0,\"available_bikes\":23,\"last_update\":1520858079000},{\"number\":80,\"name\":\"ST JAMES HOSPITAL (LUAS)\",\"address\":\"St James Hospital (Luas)\",\"position\":{\"lat\":53.341359,\"lng\":-6.292951},\"banking\":false,\"bonus\":false,\"status\":\"OPEN\",\"contract_name\":\"Dublin\",\"bike_stands\":40,\"available_bike_stands\":24,\"available_bikes\":16,\"last_update\":1520858184000},{\"number\":41,\"name\":\"HARCOURT TERRACE\",\"address\":\"Harcourt Terrace\",\"position\":{\"lat\":53.332763,\"lng\":-6.257942},\"banking\":false,\"bonus\":false,\"status\":\"OPEN\",\"contract_name\":\"Dublin\",\"bike_stands\":20,\"available_bike_stands\":8,\"available_bikes\":12,\"last_update\":1520857728000},{\"number\":3,\"name\":\"BOLTON STREET\",\"address\":\"Bolton Street\",\"position\":{\"lat\":53.351182,\"lng\":-6.269859},\"banking\":false,\"bonus\":false,\"status\":\"OPEN\",\"contract_name\":\"Dublin\",\"bike_stands\":20,\"available_bike_stands\":17,\"available_bikes\":3,\"last_update\":1520857802000},{\"number\":46,\"name\":\"STRAND STREET GREAT\",\"address\":\"Strand Street Great\",\"position\":{\"lat\":53.347082,\"lng\":-6.264192},\"banking\":true,\"bonus\":false,\"status\":\"OPEN\",\"contract_name\":\"Dublin\",\"bike_stands\":35,\"available_bike_stands\":29,\"available_bikes\":6,\"last_update\":1520858044000},{\"number\":40,\"name\":\"JERVIS STREET\",\"address\":\"Jervis Street\",\"position\":{\"lat\":53.3483,\"lng\":-6.266651},\"banking\":true,\"bonus\":false,\"status\":\"OPEN\",\"contract_name\":\"Dublin\",\"bike_stands\":21,\"available_bike_stands\":14,\"available_bikes\":7,\"last_update\":1520858195000},{\"number\":29,\"name\":\"ORMOND QUAY UPPER\",\"address\":\"Ormond Quay Upper\",\"position\":{\"lat\":53.346057,\"lng\":-6.268001},\"banking\":true,\"bonus\":false,\"status\":\"OPEN\",\"contract_name\":\"Dublin\",\"bike_stands\":29,\"available_bike_stands\":27,\"available_bikes\":1,\"last_update\":1520857781000},{\"number\":70,\"name\":\"BARROW STREET\",\"address\":\"Barrow Street\",\"position\":{\"lat\":53.341655,\"lng\":-6.236198},\"banking\":true,\"bonus\":false,\"status\":\"OPEN\",\"contract_name\":\"Dublin\",\"bike_stands\":40,\"available_bike_stands\":10,\"available_bikes\":30,\"last_update\":1520858021000},{\"number\":28,\"name\":\"MOUNTJOY SQUARE WEST\",\"address\":\"Mountjoy Square West\",\"position\":{\"lat\":53.356299,\"lng\":-6.258586},\"banking\":false,\"bonus\":false,\"status\":\"OPEN\",\"contract_name\":\"Dublin\",\"bike_stands\":30,\"available_bike_stands\":30,\"available_bikes\":0,\"last_update\":1520858074000},{\"number\":39,\"name\":\"WILTON TERRACE\",\"address\":\"Wilton Terrace\",\"position\":{\"lat\":53.332383,\"lng\":-6.252717},\"banking\":true,\"bonus\":false,\"status\":\"OPEN\",\"contract_name\":\"Dublin\",\"bike_stands\":20,\"available_bike_stands\":13,\"available_bikes\":7,\"last_update\":1520858059000},{\"number\":83,\"name\":\"EMMET ROAD\",\"address\":\"Emmet Road\",\"position\":{\"lat\":53.340714,\"lng\":-6.308191},\"banking\":false,\"bonus\":false,\"status\":\"OPEN\",\"contract_name\":\"Dublin\",\"bike_stands\":40,\"available_bike_stands\":40,\"available_bikes\":0,\"last_update\":1520857872000},{\"number\":92,\"name\":\"HEUSTON BRIDGE (NORTH)\",\"address\":\"Heuston Bridge (North)\",\"position\":{\"lat\":53.347802,\"lng\":-6.292432},\"banking\":false,\"bonus\":false,\"status\":\"OPEN\",\"contract_name\":\"Dublin\",\"bike_stands\":40,\"available_bike_stands\":40,\"available_bikes\":0,\"last_update\":1520857844000},{\"number\":21,\"name\":\"LEINSTER STREET SOUTH\",\"address\":\"Leinster Street South\",\"position\":{\"lat\":53.34218,\"lng\":-6.254485},\"banking\":false,\"bonus\":false,\"status\":\"OPEN\",\"contract_name\":\"Dublin\",\"bike_stands\":30,\"available_bike_stands\":0,\"available_bikes\":30,\"last_update\":1520858029000},{\"number\":88,\"name\":\"BLACKHALL PLACE\",\"address\":\"Blackhall Place\",\"position\":{\"lat\":53.3488,\"lng\":-6.281637},\"banking\":false,\"bonus\":false,\"status\":\"OPEN\",\"contract_name\":\"Dublin\",\"bike_stands\":30,\"available_bike_stands\":30,\"available_bikes\":0,\"last_update\":1520857939000}]'\n"
     ]
    }
   ],
   "source": [
    "import requests\n",
    "r = requests.get(\"https://api.jcdecaux.com/vls/v1/stations?contract=Dublin&apiKey=7ad82bb68a98a4a16979023ed867b6501b108e6e\")\n",
    "print (r.content)"
   ]
  },
  {
   "cell_type": "code",
   "execution_count": 18,
   "metadata": {},
   "outputs": [
    {
     "name": "stdout",
     "output_type": "stream",
     "text": [
      "{'Date': 'Mon, 12 Mar 2018 12:36:58 GMT', 'Server': 'Apache-Coyote/1.1', 'Content-Encoding': 'gzip', 'Content-Type': 'application/json', 'Connection': 'close', 'Transfer-Encoding': 'chunked'}\n"
     ]
    }
   ],
   "source": [
    "print (r.headers)"
   ]
  },
  {
   "cell_type": "code",
   "execution_count": 19,
   "metadata": {},
   "outputs": [
    {
     "name": "stdout",
     "output_type": "stream",
     "text": [
      "200\n"
     ]
    }
   ],
   "source": [
    "print (r.status_code)"
   ]
  },
  {
   "cell_type": "code",
   "execution_count": 34,
   "metadata": {},
   "outputs": [
    {
     "name": "stdout",
     "output_type": "stream",
     "text": [
      "<class 'function'>\n"
     ]
    },
    {
     "ename": "TypeError",
     "evalue": "'function' object is not subscriptable",
     "output_type": "error",
     "traceback": [
      "\u001b[0;31m---------------------------------------------------------------------------\u001b[0m",
      "\u001b[0;31mTypeError\u001b[0m                                 Traceback (most recent call last)",
      "\u001b[0;32m<ipython-input-34-caa76ed64f89>\u001b[0m in \u001b[0;36m<module>\u001b[0;34m()\u001b[0m\n\u001b[1;32m     10\u001b[0m \u001b[0mprint\u001b[0m \u001b[0;34m(\u001b[0m\u001b[0mtype\u001b[0m\u001b[0;34m(\u001b[0m\u001b[0mrequest_new_data\u001b[0m\u001b[0;34m)\u001b[0m\u001b[0;34m)\u001b[0m\u001b[0;34m\u001b[0m\u001b[0m\n\u001b[1;32m     11\u001b[0m \u001b[0mrequest_new_data\u001b[0m\u001b[0;34m(\u001b[0m\u001b[0;34m)\u001b[0m\u001b[0;34m\u001b[0m\u001b[0m\n\u001b[0;32m---> 12\u001b[0;31m \u001b[0mprint\u001b[0m \u001b[0;34m(\u001b[0m\u001b[0mrequest_new_data\u001b[0m\u001b[0;34m[\u001b[0m\u001b[0;34m'address'\u001b[0m\u001b[0;34m]\u001b[0m\u001b[0;34m)\u001b[0m\u001b[0;34m\u001b[0m\u001b[0m\n\u001b[0m",
      "\u001b[0;31mTypeError\u001b[0m: 'function' object is not subscriptable"
     ]
    }
   ],
   "source": [
    "    #https://github.com/lukekearney/Dublin-Bikes-Occupancy/blob/master/src/helpers.py\n",
    "    import json\n",
    "    def request_new_data():\n",
    "        url = \"https://api.jcdecaux.com/vls/v1/stations?contract=Dublin&apiKey=7ad82bb68a98a4a16979023ed867b6501b108e6e\"\n",
    "        req = requests.get(url)\n",
    "\n",
    "        parsed_json = json.loads(req.text)\n",
    "    \n",
    "        return parsed_json\n",
    "    print (type(request_new_data))\n",
    "    request_new_data()\n",
    "    print (request_new_data['address'])"
   ]
  },
  {
   "cell_type": "code",
   "execution_count": 54,
   "metadata": {},
   "outputs": [],
   "source": [
    "#http://blog.appliedinformaticsinc.com/how-to-parse-and-convert-json-to-csv-using-python/\n",
    "import json\n",
    "url = \"https://api.jcdecaux.com/vls/v1/stations?contract=Dublin&apiKey=7ad82bb68a98a4a16979023ed867b6501b108e6e\"\n",
    "req = requests.get(url)\n",
    "req_text= req.text\n",
    "json_parsed=json.loads(req_text)\n",
    "csv_data=json_parsed[0:]\n",
    "csv1_data = open('test.csv', 'a')\n",
    "\n",
    "csvwriter = csv.writer(csv1_data)\n",
    "\n",
    "count = 0\n",
    "\n",
    "for i in csv_data:\n",
    "\n",
    "      if count == 0:\n",
    "\n",
    "             header = i.keys()\n",
    "\n",
    "             csvwriter.writerow(header)\n",
    "\n",
    "             count += 1\n",
    "\n",
    "      csvwriter.writerow(i.values())\n",
    "\n",
    "csv1_data.close()\n"
   ]
  },
  {
   "cell_type": "code",
   "execution_count": null,
   "metadata": {
    "collapsed": true
   },
   "outputs": [],
   "source": []
  }
 ],
 "metadata": {
  "kernelspec": {
   "display_name": "Python 3",
   "language": "python",
   "name": "python3"
  },
  "language_info": {
   "codemirror_mode": {
    "name": "ipython",
    "version": 3
   },
   "file_extension": ".py",
   "mimetype": "text/x-python",
   "name": "python",
   "nbconvert_exporter": "python",
   "pygments_lexer": "ipython3",
   "version": "3.6.1"
  }
 },
 "nbformat": 4,
 "nbformat_minor": 2
}
